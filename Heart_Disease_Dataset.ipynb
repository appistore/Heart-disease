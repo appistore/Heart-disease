{
  "nbformat": 4,
  "nbformat_minor": 0,
  "metadata": {
    "colab": {
      "provenance": [],
      "toc_visible": true
    },
    "kernelspec": {
      "name": "python3",
      "display_name": "Python 3"
    },
    "language_info": {
      "name": "python"
    }
  },
  "cells": [
    {
      "cell_type": "code",
      "execution_count": 1,
      "metadata": {
        "colab": {
          "base_uri": "https://localhost:8080/"
        },
        "id": "6cfAXJnEa3sG",
        "outputId": "14bd1a46-8be5-41d8-a4ba-bc71b1804e2f"
      },
      "outputs": [
        {
          "output_type": "stream",
          "name": "stdout",
          "text": [
            "Mounted at /content/drive\n"
          ]
        }
      ],
      "source": [
        "from google.colab import drive\n",
        "drive.mount('/content/drive')"
      ]
    },
    {
      "cell_type": "code",
      "source": [
        "import numpy as np\n",
        "import pandas as pd\n",
        "import matplotlib.pyplot as plt\n",
        "from sklearn.linear_model import LogisticRegression\n",
        "from sklearn.model_selection import train_test_split\n",
        "import warnings\n",
        "import pickle\n",
        "import chardet\n",
        "import seaborn as sns\n",
        "import tensorflow as tf\n",
        "from sklearn.preprocessing import StandardScaler\n",
        "#metrics\n",
        "from sklearn.metrics import roc_auc_score\n",
        "from sklearn.metrics import roc_curve, precision_recall_curve\n",
        "from sklearn.metrics import precision_score, recall_score, f1_score, accuracy_score\n",
        "from sklearn.metrics import confusion_matrix, log_loss\n",
        "from sklearn.model_selection import learning_curve"
      ],
      "metadata": {
        "id": "I9bvWOYwb3Mn"
      },
      "execution_count": 2,
      "outputs": []
    },
    {
      "cell_type": "markdown",
      "source": [
        "## **Partie 1: Collecte et Préparation des Données**"
      ],
      "metadata": {
        "id": "C8e93OIBVmeG"
      }
    },
    {
      "cell_type": "code",
      "source": [
        "df_heart = pd.read_csv('/content/drive/MyDrive/heart.csv')\n",
        "\n",
        "df_heart.head(10)"
      ],
      "metadata": {
        "colab": {
          "base_uri": "https://localhost:8080/",
          "height": 363
        },
        "id": "z9MRLWWpb3PM",
        "outputId": "6ff049ef-dca8-4271-ac8e-84e7aa7b25cc"
      },
      "execution_count": 3,
      "outputs": [
        {
          "output_type": "execute_result",
          "data": {
            "text/plain": [
              "   age  sex  cp  trestbps  chol  fbs  restecg  thalach  exang  oldpeak  slope  \\\n",
              "0   52    1   0       125   212    0        1      168      0      1.0      2   \n",
              "1   53    1   0       140   203    1        0      155      1      3.1      0   \n",
              "2   70    1   0       145   174    0        1      125      1      2.6      0   \n",
              "3   61    1   0       148   203    0        1      161      0      0.0      2   \n",
              "4   62    0   0       138   294    1        1      106      0      1.9      1   \n",
              "5   58    0   0       100   248    0        0      122      0      1.0      1   \n",
              "6   58    1   0       114   318    0        2      140      0      4.4      0   \n",
              "7   55    1   0       160   289    0        0      145      1      0.8      1   \n",
              "8   46    1   0       120   249    0        0      144      0      0.8      2   \n",
              "9   54    1   0       122   286    0        0      116      1      3.2      1   \n",
              "\n",
              "   ca  thal  target  \n",
              "0   2     3       0  \n",
              "1   0     3       0  \n",
              "2   0     3       0  \n",
              "3   1     3       0  \n",
              "4   3     2       0  \n",
              "5   0     2       1  \n",
              "6   3     1       0  \n",
              "7   1     3       0  \n",
              "8   0     3       0  \n",
              "9   2     2       0  "
            ],
            "text/html": [
              "\n",
              "  <div id=\"df-654c4d52-b05e-4fac-95d5-66eff00548df\" class=\"colab-df-container\">\n",
              "    <div>\n",
              "<style scoped>\n",
              "    .dataframe tbody tr th:only-of-type {\n",
              "        vertical-align: middle;\n",
              "    }\n",
              "\n",
              "    .dataframe tbody tr th {\n",
              "        vertical-align: top;\n",
              "    }\n",
              "\n",
              "    .dataframe thead th {\n",
              "        text-align: right;\n",
              "    }\n",
              "</style>\n",
              "<table border=\"1\" class=\"dataframe\">\n",
              "  <thead>\n",
              "    <tr style=\"text-align: right;\">\n",
              "      <th></th>\n",
              "      <th>age</th>\n",
              "      <th>sex</th>\n",
              "      <th>cp</th>\n",
              "      <th>trestbps</th>\n",
              "      <th>chol</th>\n",
              "      <th>fbs</th>\n",
              "      <th>restecg</th>\n",
              "      <th>thalach</th>\n",
              "      <th>exang</th>\n",
              "      <th>oldpeak</th>\n",
              "      <th>slope</th>\n",
              "      <th>ca</th>\n",
              "      <th>thal</th>\n",
              "      <th>target</th>\n",
              "    </tr>\n",
              "  </thead>\n",
              "  <tbody>\n",
              "    <tr>\n",
              "      <th>0</th>\n",
              "      <td>52</td>\n",
              "      <td>1</td>\n",
              "      <td>0</td>\n",
              "      <td>125</td>\n",
              "      <td>212</td>\n",
              "      <td>0</td>\n",
              "      <td>1</td>\n",
              "      <td>168</td>\n",
              "      <td>0</td>\n",
              "      <td>1.0</td>\n",
              "      <td>2</td>\n",
              "      <td>2</td>\n",
              "      <td>3</td>\n",
              "      <td>0</td>\n",
              "    </tr>\n",
              "    <tr>\n",
              "      <th>1</th>\n",
              "      <td>53</td>\n",
              "      <td>1</td>\n",
              "      <td>0</td>\n",
              "      <td>140</td>\n",
              "      <td>203</td>\n",
              "      <td>1</td>\n",
              "      <td>0</td>\n",
              "      <td>155</td>\n",
              "      <td>1</td>\n",
              "      <td>3.1</td>\n",
              "      <td>0</td>\n",
              "      <td>0</td>\n",
              "      <td>3</td>\n",
              "      <td>0</td>\n",
              "    </tr>\n",
              "    <tr>\n",
              "      <th>2</th>\n",
              "      <td>70</td>\n",
              "      <td>1</td>\n",
              "      <td>0</td>\n",
              "      <td>145</td>\n",
              "      <td>174</td>\n",
              "      <td>0</td>\n",
              "      <td>1</td>\n",
              "      <td>125</td>\n",
              "      <td>1</td>\n",
              "      <td>2.6</td>\n",
              "      <td>0</td>\n",
              "      <td>0</td>\n",
              "      <td>3</td>\n",
              "      <td>0</td>\n",
              "    </tr>\n",
              "    <tr>\n",
              "      <th>3</th>\n",
              "      <td>61</td>\n",
              "      <td>1</td>\n",
              "      <td>0</td>\n",
              "      <td>148</td>\n",
              "      <td>203</td>\n",
              "      <td>0</td>\n",
              "      <td>1</td>\n",
              "      <td>161</td>\n",
              "      <td>0</td>\n",
              "      <td>0.0</td>\n",
              "      <td>2</td>\n",
              "      <td>1</td>\n",
              "      <td>3</td>\n",
              "      <td>0</td>\n",
              "    </tr>\n",
              "    <tr>\n",
              "      <th>4</th>\n",
              "      <td>62</td>\n",
              "      <td>0</td>\n",
              "      <td>0</td>\n",
              "      <td>138</td>\n",
              "      <td>294</td>\n",
              "      <td>1</td>\n",
              "      <td>1</td>\n",
              "      <td>106</td>\n",
              "      <td>0</td>\n",
              "      <td>1.9</td>\n",
              "      <td>1</td>\n",
              "      <td>3</td>\n",
              "      <td>2</td>\n",
              "      <td>0</td>\n",
              "    </tr>\n",
              "    <tr>\n",
              "      <th>5</th>\n",
              "      <td>58</td>\n",
              "      <td>0</td>\n",
              "      <td>0</td>\n",
              "      <td>100</td>\n",
              "      <td>248</td>\n",
              "      <td>0</td>\n",
              "      <td>0</td>\n",
              "      <td>122</td>\n",
              "      <td>0</td>\n",
              "      <td>1.0</td>\n",
              "      <td>1</td>\n",
              "      <td>0</td>\n",
              "      <td>2</td>\n",
              "      <td>1</td>\n",
              "    </tr>\n",
              "    <tr>\n",
              "      <th>6</th>\n",
              "      <td>58</td>\n",
              "      <td>1</td>\n",
              "      <td>0</td>\n",
              "      <td>114</td>\n",
              "      <td>318</td>\n",
              "      <td>0</td>\n",
              "      <td>2</td>\n",
              "      <td>140</td>\n",
              "      <td>0</td>\n",
              "      <td>4.4</td>\n",
              "      <td>0</td>\n",
              "      <td>3</td>\n",
              "      <td>1</td>\n",
              "      <td>0</td>\n",
              "    </tr>\n",
              "    <tr>\n",
              "      <th>7</th>\n",
              "      <td>55</td>\n",
              "      <td>1</td>\n",
              "      <td>0</td>\n",
              "      <td>160</td>\n",
              "      <td>289</td>\n",
              "      <td>0</td>\n",
              "      <td>0</td>\n",
              "      <td>145</td>\n",
              "      <td>1</td>\n",
              "      <td>0.8</td>\n",
              "      <td>1</td>\n",
              "      <td>1</td>\n",
              "      <td>3</td>\n",
              "      <td>0</td>\n",
              "    </tr>\n",
              "    <tr>\n",
              "      <th>8</th>\n",
              "      <td>46</td>\n",
              "      <td>1</td>\n",
              "      <td>0</td>\n",
              "      <td>120</td>\n",
              "      <td>249</td>\n",
              "      <td>0</td>\n",
              "      <td>0</td>\n",
              "      <td>144</td>\n",
              "      <td>0</td>\n",
              "      <td>0.8</td>\n",
              "      <td>2</td>\n",
              "      <td>0</td>\n",
              "      <td>3</td>\n",
              "      <td>0</td>\n",
              "    </tr>\n",
              "    <tr>\n",
              "      <th>9</th>\n",
              "      <td>54</td>\n",
              "      <td>1</td>\n",
              "      <td>0</td>\n",
              "      <td>122</td>\n",
              "      <td>286</td>\n",
              "      <td>0</td>\n",
              "      <td>0</td>\n",
              "      <td>116</td>\n",
              "      <td>1</td>\n",
              "      <td>3.2</td>\n",
              "      <td>1</td>\n",
              "      <td>2</td>\n",
              "      <td>2</td>\n",
              "      <td>0</td>\n",
              "    </tr>\n",
              "  </tbody>\n",
              "</table>\n",
              "</div>\n",
              "    <div class=\"colab-df-buttons\">\n",
              "\n",
              "  <div class=\"colab-df-container\">\n",
              "    <button class=\"colab-df-convert\" onclick=\"convertToInteractive('df-654c4d52-b05e-4fac-95d5-66eff00548df')\"\n",
              "            title=\"Convert this dataframe to an interactive table.\"\n",
              "            style=\"display:none;\">\n",
              "\n",
              "  <svg xmlns=\"http://www.w3.org/2000/svg\" height=\"24px\" viewBox=\"0 -960 960 960\">\n",
              "    <path d=\"M120-120v-720h720v720H120Zm60-500h600v-160H180v160Zm220 220h160v-160H400v160Zm0 220h160v-160H400v160ZM180-400h160v-160H180v160Zm440 0h160v-160H620v160ZM180-180h160v-160H180v160Zm440 0h160v-160H620v160Z\"/>\n",
              "  </svg>\n",
              "    </button>\n",
              "\n",
              "  <style>\n",
              "    .colab-df-container {\n",
              "      display:flex;\n",
              "      gap: 12px;\n",
              "    }\n",
              "\n",
              "    .colab-df-convert {\n",
              "      background-color: #E8F0FE;\n",
              "      border: none;\n",
              "      border-radius: 50%;\n",
              "      cursor: pointer;\n",
              "      display: none;\n",
              "      fill: #1967D2;\n",
              "      height: 32px;\n",
              "      padding: 0 0 0 0;\n",
              "      width: 32px;\n",
              "    }\n",
              "\n",
              "    .colab-df-convert:hover {\n",
              "      background-color: #E2EBFA;\n",
              "      box-shadow: 0px 1px 2px rgba(60, 64, 67, 0.3), 0px 1px 3px 1px rgba(60, 64, 67, 0.15);\n",
              "      fill: #174EA6;\n",
              "    }\n",
              "\n",
              "    .colab-df-buttons div {\n",
              "      margin-bottom: 4px;\n",
              "    }\n",
              "\n",
              "    [theme=dark] .colab-df-convert {\n",
              "      background-color: #3B4455;\n",
              "      fill: #D2E3FC;\n",
              "    }\n",
              "\n",
              "    [theme=dark] .colab-df-convert:hover {\n",
              "      background-color: #434B5C;\n",
              "      box-shadow: 0px 1px 3px 1px rgba(0, 0, 0, 0.15);\n",
              "      filter: drop-shadow(0px 1px 2px rgba(0, 0, 0, 0.3));\n",
              "      fill: #FFFFFF;\n",
              "    }\n",
              "  </style>\n",
              "\n",
              "    <script>\n",
              "      const buttonEl =\n",
              "        document.querySelector('#df-654c4d52-b05e-4fac-95d5-66eff00548df button.colab-df-convert');\n",
              "      buttonEl.style.display =\n",
              "        google.colab.kernel.accessAllowed ? 'block' : 'none';\n",
              "\n",
              "      async function convertToInteractive(key) {\n",
              "        const element = document.querySelector('#df-654c4d52-b05e-4fac-95d5-66eff00548df');\n",
              "        const dataTable =\n",
              "          await google.colab.kernel.invokeFunction('convertToInteractive',\n",
              "                                                    [key], {});\n",
              "        if (!dataTable) return;\n",
              "\n",
              "        const docLinkHtml = 'Like what you see? Visit the ' +\n",
              "          '<a target=\"_blank\" href=https://colab.research.google.com/notebooks/data_table.ipynb>data table notebook</a>'\n",
              "          + ' to learn more about interactive tables.';\n",
              "        element.innerHTML = '';\n",
              "        dataTable['output_type'] = 'display_data';\n",
              "        await google.colab.output.renderOutput(dataTable, element);\n",
              "        const docLink = document.createElement('div');\n",
              "        docLink.innerHTML = docLinkHtml;\n",
              "        element.appendChild(docLink);\n",
              "      }\n",
              "    </script>\n",
              "  </div>\n",
              "\n",
              "\n",
              "<div id=\"df-89d5e990-c99b-4209-b4e6-7494b9c15819\">\n",
              "  <button class=\"colab-df-quickchart\" onclick=\"quickchart('df-89d5e990-c99b-4209-b4e6-7494b9c15819')\"\n",
              "            title=\"Suggest charts\"\n",
              "            style=\"display:none;\">\n",
              "\n",
              "<svg xmlns=\"http://www.w3.org/2000/svg\" height=\"24px\"viewBox=\"0 0 24 24\"\n",
              "     width=\"24px\">\n",
              "    <g>\n",
              "        <path d=\"M19 3H5c-1.1 0-2 .9-2 2v14c0 1.1.9 2 2 2h14c1.1 0 2-.9 2-2V5c0-1.1-.9-2-2-2zM9 17H7v-7h2v7zm4 0h-2V7h2v10zm4 0h-2v-4h2v4z\"/>\n",
              "    </g>\n",
              "</svg>\n",
              "  </button>\n",
              "\n",
              "<style>\n",
              "  .colab-df-quickchart {\n",
              "      --bg-color: #E8F0FE;\n",
              "      --fill-color: #1967D2;\n",
              "      --hover-bg-color: #E2EBFA;\n",
              "      --hover-fill-color: #174EA6;\n",
              "      --disabled-fill-color: #AAA;\n",
              "      --disabled-bg-color: #DDD;\n",
              "  }\n",
              "\n",
              "  [theme=dark] .colab-df-quickchart {\n",
              "      --bg-color: #3B4455;\n",
              "      --fill-color: #D2E3FC;\n",
              "      --hover-bg-color: #434B5C;\n",
              "      --hover-fill-color: #FFFFFF;\n",
              "      --disabled-bg-color: #3B4455;\n",
              "      --disabled-fill-color: #666;\n",
              "  }\n",
              "\n",
              "  .colab-df-quickchart {\n",
              "    background-color: var(--bg-color);\n",
              "    border: none;\n",
              "    border-radius: 50%;\n",
              "    cursor: pointer;\n",
              "    display: none;\n",
              "    fill: var(--fill-color);\n",
              "    height: 32px;\n",
              "    padding: 0;\n",
              "    width: 32px;\n",
              "  }\n",
              "\n",
              "  .colab-df-quickchart:hover {\n",
              "    background-color: var(--hover-bg-color);\n",
              "    box-shadow: 0 1px 2px rgba(60, 64, 67, 0.3), 0 1px 3px 1px rgba(60, 64, 67, 0.15);\n",
              "    fill: var(--button-hover-fill-color);\n",
              "  }\n",
              "\n",
              "  .colab-df-quickchart-complete:disabled,\n",
              "  .colab-df-quickchart-complete:disabled:hover {\n",
              "    background-color: var(--disabled-bg-color);\n",
              "    fill: var(--disabled-fill-color);\n",
              "    box-shadow: none;\n",
              "  }\n",
              "\n",
              "  .colab-df-spinner {\n",
              "    border: 2px solid var(--fill-color);\n",
              "    border-color: transparent;\n",
              "    border-bottom-color: var(--fill-color);\n",
              "    animation:\n",
              "      spin 1s steps(1) infinite;\n",
              "  }\n",
              "\n",
              "  @keyframes spin {\n",
              "    0% {\n",
              "      border-color: transparent;\n",
              "      border-bottom-color: var(--fill-color);\n",
              "      border-left-color: var(--fill-color);\n",
              "    }\n",
              "    20% {\n",
              "      border-color: transparent;\n",
              "      border-left-color: var(--fill-color);\n",
              "      border-top-color: var(--fill-color);\n",
              "    }\n",
              "    30% {\n",
              "      border-color: transparent;\n",
              "      border-left-color: var(--fill-color);\n",
              "      border-top-color: var(--fill-color);\n",
              "      border-right-color: var(--fill-color);\n",
              "    }\n",
              "    40% {\n",
              "      border-color: transparent;\n",
              "      border-right-color: var(--fill-color);\n",
              "      border-top-color: var(--fill-color);\n",
              "    }\n",
              "    60% {\n",
              "      border-color: transparent;\n",
              "      border-right-color: var(--fill-color);\n",
              "    }\n",
              "    80% {\n",
              "      border-color: transparent;\n",
              "      border-right-color: var(--fill-color);\n",
              "      border-bottom-color: var(--fill-color);\n",
              "    }\n",
              "    90% {\n",
              "      border-color: transparent;\n",
              "      border-bottom-color: var(--fill-color);\n",
              "    }\n",
              "  }\n",
              "</style>\n",
              "\n",
              "  <script>\n",
              "    async function quickchart(key) {\n",
              "      const quickchartButtonEl =\n",
              "        document.querySelector('#' + key + ' button');\n",
              "      quickchartButtonEl.disabled = true;  // To prevent multiple clicks.\n",
              "      quickchartButtonEl.classList.add('colab-df-spinner');\n",
              "      try {\n",
              "        const charts = await google.colab.kernel.invokeFunction(\n",
              "            'suggestCharts', [key], {});\n",
              "      } catch (error) {\n",
              "        console.error('Error during call to suggestCharts:', error);\n",
              "      }\n",
              "      quickchartButtonEl.classList.remove('colab-df-spinner');\n",
              "      quickchartButtonEl.classList.add('colab-df-quickchart-complete');\n",
              "    }\n",
              "    (() => {\n",
              "      let quickchartButtonEl =\n",
              "        document.querySelector('#df-89d5e990-c99b-4209-b4e6-7494b9c15819 button');\n",
              "      quickchartButtonEl.style.display =\n",
              "        google.colab.kernel.accessAllowed ? 'block' : 'none';\n",
              "    })();\n",
              "  </script>\n",
              "</div>\n",
              "\n",
              "    </div>\n",
              "  </div>\n"
            ]
          },
          "metadata": {},
          "execution_count": 3
        }
      ]
    },
    {
      "cell_type": "code",
      "source": [
        "df_heart.shape"
      ],
      "metadata": {
        "colab": {
          "base_uri": "https://localhost:8080/"
        },
        "id": "TSG51G9BTl9E",
        "outputId": "901fab85-f9ae-4be2-871c-7208fd54388c"
      },
      "execution_count": 4,
      "outputs": [
        {
          "output_type": "execute_result",
          "data": {
            "text/plain": [
              "(1025, 14)"
            ]
          },
          "metadata": {},
          "execution_count": 4
        }
      ]
    },
    {
      "cell_type": "code",
      "source": [
        "df_heart.isnull().sum()"
      ],
      "metadata": {
        "colab": {
          "base_uri": "https://localhost:8080/"
        },
        "id": "Mms2IHpTU2Tc",
        "outputId": "e2ac77ec-d246-4f11-f0d3-4020920931ab"
      },
      "execution_count": 5,
      "outputs": [
        {
          "output_type": "execute_result",
          "data": {
            "text/plain": [
              "age         0\n",
              "sex         0\n",
              "cp          0\n",
              "trestbps    0\n",
              "chol        0\n",
              "fbs         0\n",
              "restecg     0\n",
              "thalach     0\n",
              "exang       0\n",
              "oldpeak     0\n",
              "slope       0\n",
              "ca          0\n",
              "thal        0\n",
              "target      0\n",
              "dtype: int64"
            ]
          },
          "metadata": {},
          "execution_count": 5
        }
      ]
    },
    {
      "cell_type": "markdown",
      "source": [
        "## Partie 2 : Analyse Exploratoire des Données"
      ],
      "metadata": {
        "id": "7vnQ2Au4VfOu"
      }
    },
    {
      "cell_type": "code",
      "source": [
        "#maligne\n",
        "df_heart_maligne = df_heart.loc[df_heart['target'] == 1]\n",
        "df_heart_maligne.shape"
      ],
      "metadata": {
        "colab": {
          "base_uri": "https://localhost:8080/"
        },
        "id": "99MkHX3wVel1",
        "outputId": "c0e25f1e-6fb7-4cbb-de48-822b1ea94803"
      },
      "execution_count": 6,
      "outputs": [
        {
          "output_type": "execute_result",
          "data": {
            "text/plain": [
              "(526, 14)"
            ]
          },
          "metadata": {},
          "execution_count": 6
        }
      ]
    },
    {
      "cell_type": "code",
      "source": [
        "#Tumeur benigne\n",
        "df_heart_benigne = df_heart.loc[df_heart['target'] == 0]\n",
        "df_heart_benigne.shape"
      ],
      "metadata": {
        "colab": {
          "base_uri": "https://localhost:8080/"
        },
        "id": "Od-rooKkVpiu",
        "outputId": "3b16176a-9202-474b-ee31-c9441a37337e"
      },
      "execution_count": 7,
      "outputs": [
        {
          "output_type": "execute_result",
          "data": {
            "text/plain": [
              "(499, 14)"
            ]
          },
          "metadata": {},
          "execution_count": 7
        }
      ]
    },
    {
      "cell_type": "code",
      "source": [
        "tr = ['Maligne', 'Bénigne']\n",
        "tab = []\n",
        "tab.append(df_heart_maligne.shape[0])\n",
        "tab.append(df_heart_benigne.shape[0])\n",
        "fig = plt.figure(figsize=(5,3))\n",
        "plt.pie(tab, labels=tr)\n",
        "plt.show()"
      ],
      "metadata": {
        "colab": {
          "base_uri": "https://localhost:8080/",
          "height": 268
        },
        "id": "b7LR7GV8VplW",
        "outputId": "75d28052-3e5a-481e-fd6e-5409edd97659"
      },
      "execution_count": 8,
      "outputs": [
        {
          "output_type": "display_data",
          "data": {
            "text/plain": [
              "<Figure size 500x300 with 1 Axes>"
            ],
            "image/png": "[encoded data removed]"
          },
          "metadata": {}
        }
      ]
    },
    {
      "cell_type": "code",
      "source": [
        "# Sélectionner seulement l'attribut 'age'\n",
        "mean_radius = df_heart['age']\n",
        "\n",
        "# Création d'un histogramme de l'attribut 'age'\n",
        "plt.figure(figsize=(8, 6))\n",
        "sns.histplot(mean_radius, bins=20, kde=True, color='green')\n",
        "plt.title('Histogramme de age')\n",
        "plt.xlabel('age')\n",
        "plt.ylabel('Nombre d\\'échantillons')\n",
        "plt.show()"
      ],
      "metadata": {
        "colab": {
          "base_uri": "https://localhost:8080/",
          "height": 564
        },
        "id": "auqWgJOCVpp4",
        "outputId": "c0511f6b-0041-4b93-9d64-af530d02a84e"
      },
      "execution_count": 9,
      "outputs": [
        {
          "output_type": "display_data",
          "data": {
            "text/plain": [
              "<Figure size 800x600 with 1 Axes>"
            ],
            "image/png": "[encoded data removed]"
          },
          "metadata": {}
        }
      ]
    },
    {
      "cell_type": "code",
      "source": [
        "# Sélectionner seulement l'attribut 'sex'\n",
        "sex = df_heart['sex']\n",
        "\n",
        "# Création d'un histogramme de l'attribut 'sex'\n",
        "plt.figure(figsize=(8, 6))\n",
        "sns.histplot(sex, bins=20, kde=True, color='yellow')\n",
        "plt.title('Histogramme de sex')\n",
        "plt.xlabel('sex')\n",
        "plt.ylabel('Nombre d\\'échantillons')\n",
        "plt.show()"
      ],
      "metadata": {
        "colab": {
          "base_uri": "https://localhost:8080/",
          "height": 564
        },
        "id": "fbb0MxsYVpsv",
        "outputId": "ec131353-0e02-42cf-8b54-08450df943e7"
      },
      "execution_count": 10,
      "outputs": [
        {
          "output_type": "display_data",
          "data": {
            "text/plain": [
              "<Figure size 800x600 with 1 Axes>"
            ],
            "image/png": "[encoded data removed]"
          },
          "metadata": {}
        }
      ]
    },
    {
      "cell_type": "code",
      "source": [
        "# Sélectionner seulement l'attribut 'chol'\n",
        "chol = df_heart['chol']\n",
        "\n",
        "# Création d'un histogramme de l'attribut 'chol'\n",
        "plt.figure(figsize=(8, 6))\n",
        "sns.histplot(chol, bins=20, kde=True, color='blue')\n",
        "plt.title('Histogramme de chol')\n",
        "plt.xlabel('chol')\n",
        "plt.ylabel('Nombre d\\'échantillons')\n",
        "plt.show()"
      ],
      "metadata": {
        "colab": {
          "base_uri": "https://localhost:8080/",
          "height": 564
        },
        "id": "22Pu5X0XXwp6",
        "outputId": "fc8f52fe-77d3-41a3-c8c6-72fe2319daec"
      },
      "execution_count": 11,
      "outputs": [
        {
          "output_type": "display_data",
          "data": {
            "text/plain": [
              "<Figure size 800x600 with 1 Axes>"
            ],
            "image/png": "[encoded data removed]"
          },
          "metadata": {}
        }
      ]
    },
    {
      "cell_type": "code",
      "source": [
        "# Sélectionner seulement l'attribut 'fbs'\n",
        "fbs = df_heart['fbs']\n",
        "\n",
        "# Création d'un histogramme de l'attribut 'fbs'\n",
        "plt.figure(figsize=(8, 6))\n",
        "sns.histplot(fbs, bins=20, kde=True, color='red')\n",
        "plt.title('Histogramme de fbs')\n",
        "plt.xlabel('fbs')\n",
        "plt.ylabel('Nombre d\\'échantillons')\n",
        "plt.show()"
      ],
      "metadata": {
        "colab": {
          "base_uri": "https://localhost:8080/",
          "height": 564
        },
        "id": "ikVi2yAOVpvu",
        "outputId": "b3f42625-905c-4b23-d2d8-b033ca628cfa"
      },
      "execution_count": 12,
      "outputs": [
        {
          "output_type": "display_data",
          "data": {
            "text/plain": [
              "<Figure size 800x600 with 1 Axes>"
            ],
            "image/png": "[encoded data removed]"
          },
          "metadata": {}
        }
      ]
    },
    {
      "cell_type": "code",
      "source": [
        "#Correlation entre les features\n",
        "df_heart.corr().style.background_gradient(cmap='coolwarm')"
      ],
      "metadata": {
        "colab": {
          "base_uri": "https://localhost:8080/",
          "height": 488
        },
        "id": "gV68cjotVp0_",
        "outputId": "c3c884f6-78f5-45ef-91fc-e10bd59f4cc5"
      },
      "execution_count": 13,
      "outputs": [
        {
          "output_type": "execute_result",
          "data": {
            "text/plain": [
              "<pandas.io.formats.style.Styler at 0x7aa4f33a7580>"
            ],
            "text/html": [
              "<style type=\"text/css\">\n",
              "#T_77fb6_row0_col0, #T_77fb6_row1_col1, #T_77fb6_row2_col2, #T_77fb6_row3_col3, #T_77fb6_row4_col4, #T_77fb6_row5_col5, #T_77fb6_row6_col6, #T_77fb6_row7_col7, #T_77fb6_row8_col8, #T_77fb6_row9_col9, #T_77fb6_row10_col10, #T_77fb6_row11_col11, #T_77fb6_row12_col12, #T_77fb6_row13_col13 {\n",
              "  background-color: #b40426;\n",
              "  color: #f1f1f1;\n",
              "}\n",
              "#T_77fb6_row0_col1, #T_77fb6_row8_col5 {\n",
              "  background-color: #6687ed;\n",
              "  color: #f1f1f1;\n",
              "}\n",
              "#T_77fb6_row0_col2, #T_77fb6_row4_col13, #T_77fb6_row6_col12 {\n",
              "  background-color: #88abfd;\n",
              "  color: #000000;\n",
              "}\n",
              "#T_77fb6_row0_col3 {\n",
              "  background-color: #b3cdfb;\n",
              "  color: #000000;\n",
              "}\n",
              "#T_77fb6_row0_col4, #T_77fb6_row1_col10, #T_77fb6_row4_col8 {\n",
              "  background-color: #afcafc;\n",
              "  color: #000000;\n",
              "}\n",
              "#T_77fb6_row0_col5, #T_77fb6_row1_col0, #T_77fb6_row10_col6 {\n",
              "  background-color: #7da0f9;\n",
              "  color: #f1f1f1;\n",
              "}\n",
              "#T_77fb6_row0_col6, #T_77fb6_row6_col3 {\n",
              "  background-color: #3e51c5;\n",
              "  color: #f1f1f1;\n",
              "}\n",
              "#T_77fb6_row0_col7, #T_77fb6_row1_col4, #T_77fb6_row4_col6, #T_77fb6_row6_col5, #T_77fb6_row7_col0, #T_77fb6_row8_col2, #T_77fb6_row8_col13, #T_77fb6_row9_col10, #T_77fb6_row9_col13, #T_77fb6_row10_col9, #T_77fb6_row13_col1, #T_77fb6_row13_col3, #T_77fb6_row13_col8, #T_77fb6_row13_col11, #T_77fb6_row13_col12 {\n",
              "  background-color: #3b4cc0;\n",
              "  color: #f1f1f1;\n",
              "}\n",
              "#T_77fb6_row0_col8, #T_77fb6_row11_col12 {\n",
              "  background-color: #b5cdfa;\n",
              "  color: #000000;\n",
              "}\n",
              "#T_77fb6_row0_col9 {\n",
              "  background-color: #dcdddd;\n",
              "  color: #000000;\n",
              "}\n",
              "#T_77fb6_row0_col10, #T_77fb6_row1_col2, #T_77fb6_row2_col9 {\n",
              "  background-color: #8fb1fe;\n",
              "  color: #000000;\n",
              "}\n",
              "#T_77fb6_row0_col11, #T_77fb6_row3_col0, #T_77fb6_row11_col0 {\n",
              "  background-color: #d6dce4;\n",
              "  color: #000000;\n",
              "}\n",
              "#T_77fb6_row0_col12, #T_77fb6_row11_col1, #T_77fb6_row12_col10 {\n",
              "  background-color: #a1c0ff;\n",
              "  color: #000000;\n",
              "}\n",
              "#T_77fb6_row0_col13, #T_77fb6_row7_col4 {\n",
              "  background-color: #688aef;\n",
              "  color: #f1f1f1;\n",
              "}\n",
              "#T_77fb6_row1_col3 {\n",
              "  background-color: #4a63d3;\n",
              "  color: #f1f1f1;\n",
              "}\n",
              "#T_77fb6_row1_col5, #T_77fb6_row4_col5, #T_77fb6_row10_col8 {\n",
              "  background-color: #5f7fe8;\n",
              "  color: #f1f1f1;\n",
              "}\n",
              "#T_77fb6_row1_col6, #T_77fb6_row13_col4 {\n",
              "  background-color: #536edd;\n",
              "  color: #f1f1f1;\n",
              "}\n",
              "#T_77fb6_row1_col7, #T_77fb6_row13_col6 {\n",
              "  background-color: #8badfd;\n",
              "  color: #000000;\n",
              "}\n",
              "#T_77fb6_row1_col8, #T_77fb6_row1_col12, #T_77fb6_row8_col12 {\n",
              "  background-color: #c0d4f5;\n",
              "  color: #000000;\n",
              "}\n",
              "#T_77fb6_row1_col9, #T_77fb6_row6_col10 {\n",
              "  background-color: #c6d6f1;\n",
              "  color: #000000;\n",
              "}\n",
              "#T_77fb6_row1_col11, #T_77fb6_row4_col10 {\n",
              "  background-color: #b2ccfb;\n",
              "  color: #000000;\n",
              "}\n",
              "#T_77fb6_row1_col13, #T_77fb6_row12_col6 {\n",
              "  background-color: #5d7ce6;\n",
              "  color: #f1f1f1;\n",
              "}\n",
              "#T_77fb6_row2_col0, #T_77fb6_row4_col2, #T_77fb6_row11_col4 {\n",
              "  background-color: #85a8fc;\n",
              "  color: #f1f1f1;\n",
              "}\n",
              "#T_77fb6_row2_col1, #T_77fb6_row6_col0 {\n",
              "  background-color: #7699f6;\n",
              "  color: #f1f1f1;\n",
              "}\n",
              "#T_77fb6_row2_col3, #T_77fb6_row10_col4 {\n",
              "  background-color: #6b8df0;\n",
              "  color: #f1f1f1;\n",
              "}\n",
              "#T_77fb6_row2_col4 {\n",
              "  background-color: #5875e1;\n",
              "  color: #f1f1f1;\n",
              "}\n",
              "#T_77fb6_row2_col5, #T_77fb6_row2_col6 {\n",
              "  background-color: #6f92f3;\n",
              "  color: #f1f1f1;\n",
              "}\n",
              "#T_77fb6_row2_col7 {\n",
              "  background-color: #dddcdc;\n",
              "  color: #000000;\n",
              "}\n",
              "#T_77fb6_row2_col8 {\n",
              "  background-color: #4257c9;\n",
              "  color: #f1f1f1;\n",
              "}\n",
              "#T_77fb6_row2_col10 {\n",
              "  background-color: #cedaeb;\n",
              "  color: #000000;\n",
              "}\n",
              "#T_77fb6_row2_col11 {\n",
              "  background-color: #6a8bef;\n",
              "  color: #f1f1f1;\n",
              "}\n",
              "#T_77fb6_row2_col12, #T_77fb6_row11_col7 {\n",
              "  background-color: #6384eb;\n",
              "  color: #f1f1f1;\n",
              "}\n",
              "#T_77fb6_row2_col13 {\n",
              "  background-color: #f2c9b4;\n",
              "  color: #000000;\n",
              "}\n",
              "#T_77fb6_row3_col1, #T_77fb6_row10_col0 {\n",
              "  background-color: #6c8ff1;\n",
              "  color: #f1f1f1;\n",
              "}\n",
              "#T_77fb6_row3_col2, #T_77fb6_row6_col7 {\n",
              "  background-color: #a3c2fe;\n",
              "  color: #000000;\n",
              "}\n",
              "#T_77fb6_row3_col4 {\n",
              "  background-color: #94b6ff;\n",
              "  color: #000000;\n",
              "}\n",
              "#T_77fb6_row3_col5, #T_77fb6_row6_col8 {\n",
              "  background-color: #90b2fe;\n",
              "  color: #000000;\n",
              "}\n",
              "#T_77fb6_row3_col6 {\n",
              "  background-color: #4055c8;\n",
              "  color: #f1f1f1;\n",
              "}\n",
              "#T_77fb6_row3_col7 {\n",
              "  background-color: #8db0fe;\n",
              "  color: #000000;\n",
              "}\n",
              "#T_77fb6_row3_col8, #T_77fb6_row8_col0 {\n",
              "  background-color: #aec9fc;\n",
              "  color: #000000;\n",
              "}\n",
              "#T_77fb6_row3_col9 {\n",
              "  background-color: #d8dce2;\n",
              "  color: #000000;\n",
              "}\n",
              "#T_77fb6_row3_col10, #T_77fb6_row9_col3 {\n",
              "  background-color: #9abbff;\n",
              "  color: #000000;\n",
              "}\n",
              "#T_77fb6_row3_col11, #T_77fb6_row8_col11 {\n",
              "  background-color: #b1cbfc;\n",
              "  color: #000000;\n",
              "}\n",
              "#T_77fb6_row3_col12 {\n",
              "  background-color: #9dbdff;\n",
              "  color: #000000;\n",
              "}\n",
              "#T_77fb6_row3_col13, #T_77fb6_row12_col7 {\n",
              "  background-color: #7ea1fa;\n",
              "  color: #f1f1f1;\n",
              "}\n",
              "#T_77fb6_row4_col0 {\n",
              "  background-color: #ccd9ed;\n",
              "  color: #000000;\n",
              "}\n",
              "#T_77fb6_row4_col1 {\n",
              "  background-color: #4e68d8;\n",
              "  color: #f1f1f1;\n",
              "}\n",
              "#T_77fb6_row4_col3 {\n",
              "  background-color: #86a9fc;\n",
              "  color: #f1f1f1;\n",
              "}\n",
              "#T_77fb6_row4_col7 {\n",
              "  background-color: #92b4fe;\n",
              "  color: #000000;\n",
              "}\n",
              "#T_77fb6_row4_col9 {\n",
              "  background-color: #c3d5f4;\n",
              "  color: #000000;\n",
              "}\n",
              "#T_77fb6_row4_col11 {\n",
              "  background-color: #a9c6fd;\n",
              "  color: #000000;\n",
              "}\n",
              "#T_77fb6_row4_col12, #T_77fb6_row5_col10, #T_77fb6_row8_col1 {\n",
              "  background-color: #a7c5fe;\n",
              "  color: #000000;\n",
              "}\n",
              "#T_77fb6_row5_col0 {\n",
              "  background-color: #b6cefa;\n",
              "  color: #000000;\n",
              "}\n",
              "#T_77fb6_row5_col1 {\n",
              "  background-color: #89acfd;\n",
              "  color: #000000;\n",
              "}\n",
              "#T_77fb6_row5_col2 {\n",
              "  background-color: #adc9fd;\n",
              "  color: #000000;\n",
              "}\n",
              "#T_77fb6_row5_col3, #T_77fb6_row9_col1 {\n",
              "  background-color: #98b9ff;\n",
              "  color: #000000;\n",
              "}\n",
              "#T_77fb6_row5_col4 {\n",
              "  background-color: #779af7;\n",
              "  color: #f1f1f1;\n",
              "}\n",
              "#T_77fb6_row5_col6, #T_77fb6_row10_col5 {\n",
              "  background-color: #455cce;\n",
              "  color: #f1f1f1;\n",
              "}\n",
              "#T_77fb6_row5_col7, #T_77fb6_row5_col13 {\n",
              "  background-color: #96b7ff;\n",
              "  color: #000000;\n",
              "}\n",
              "#T_77fb6_row5_col8 {\n",
              "  background-color: #abc8fd;\n",
              "  color: #000000;\n",
              "}\n",
              "#T_77fb6_row5_col9, #T_77fb6_row12_col1 {\n",
              "  background-color: #b7cff9;\n",
              "  color: #000000;\n",
              "}\n",
              "#T_77fb6_row5_col11 {\n",
              "  background-color: #b9d0f9;\n",
              "  color: #000000;\n",
              "}\n",
              "#T_77fb6_row5_col12, #T_77fb6_row6_col11, #T_77fb6_row8_col4, #T_77fb6_row9_col4 {\n",
              "  background-color: #82a6fb;\n",
              "  color: #f1f1f1;\n",
              "}\n",
              "#T_77fb6_row6_col1, #T_77fb6_row8_col3, #T_77fb6_row12_col3 {\n",
              "  background-color: #7295f4;\n",
              "  color: #f1f1f1;\n",
              "}\n",
              "#T_77fb6_row6_col2, #T_77fb6_row11_col10 {\n",
              "  background-color: #a5c3fe;\n",
              "  color: #000000;\n",
              "}\n",
              "#T_77fb6_row6_col4, #T_77fb6_row7_col8, #T_77fb6_row11_col13 {\n",
              "  background-color: #465ecf;\n",
              "  color: #f1f1f1;\n",
              "}\n",
              "#T_77fb6_row6_col9, #T_77fb6_row12_col0 {\n",
              "  background-color: #aac7fd;\n",
              "  color: #000000;\n",
              "}\n",
              "#T_77fb6_row6_col13 {\n",
              "  background-color: #bfd3f6;\n",
              "  color: #000000;\n",
              "}\n",
              "#T_77fb6_row7_col1, #T_77fb6_row10_col12 {\n",
              "  background-color: #7597f6;\n",
              "  color: #f1f1f1;\n",
              "}\n",
              "#T_77fb6_row7_col2, #T_77fb6_row11_col9 {\n",
              "  background-color: #dedcdb;\n",
              "  color: #000000;\n",
              "}\n",
              "#T_77fb6_row7_col3, #T_77fb6_row7_col5, #T_77fb6_row13_col9 {\n",
              "  background-color: #5572df;\n",
              "  color: #f1f1f1;\n",
              "}\n",
              "#T_77fb6_row7_col6, #T_77fb6_row12_col2 {\n",
              "  background-color: #7093f3;\n",
              "  color: #f1f1f1;\n",
              "}\n",
              "#T_77fb6_row7_col9 {\n",
              "  background-color: #6788ee;\n",
              "  color: #f1f1f1;\n",
              "}\n",
              "#T_77fb6_row7_col10 {\n",
              "  background-color: #f3c7b1;\n",
              "  color: #000000;\n",
              "}\n",
              "#T_77fb6_row7_col11 {\n",
              "  background-color: #6282ea;\n",
              "  color: #f1f1f1;\n",
              "}\n",
              "#T_77fb6_row7_col12 {\n",
              "  background-color: #7396f5;\n",
              "  color: #f1f1f1;\n",
              "}\n",
              "#T_77fb6_row7_col13 {\n",
              "  background-color: #f2cbb7;\n",
              "  color: #000000;\n",
              "}\n",
              "#T_77fb6_row8_col6 {\n",
              "  background-color: #506bda;\n",
              "  color: #f1f1f1;\n",
              "}\n",
              "#T_77fb6_row8_col7 {\n",
              "  background-color: #3c4ec2;\n",
              "  color: #f1f1f1;\n",
              "}\n",
              "#T_77fb6_row8_col9 {\n",
              "  background-color: #ebd3c6;\n",
              "  color: #000000;\n",
              "}\n",
              "#T_77fb6_row8_col10, #T_77fb6_row10_col1 {\n",
              "  background-color: #7a9df8;\n",
              "  color: #f1f1f1;\n",
              "}\n",
              "#T_77fb6_row9_col0 {\n",
              "  background-color: #cad8ef;\n",
              "  color: #000000;\n",
              "}\n",
              "#T_77fb6_row9_col2, #T_77fb6_row11_col2 {\n",
              "  background-color: #6e90f2;\n",
              "  color: #f1f1f1;\n",
              "}\n",
              "#T_77fb6_row9_col5 {\n",
              "  background-color: #5a78e4;\n",
              "  color: #f1f1f1;\n",
              "}\n",
              "#T_77fb6_row9_col6 {\n",
              "  background-color: #5470de;\n",
              "  color: #f1f1f1;\n",
              "}\n",
              "#T_77fb6_row9_col7 {\n",
              "  background-color: #4358cb;\n",
              "  color: #f1f1f1;\n",
              "}\n",
              "#T_77fb6_row9_col8 {\n",
              "  background-color: #e2dad5;\n",
              "  color: #000000;\n",
              "}\n",
              "#T_77fb6_row9_col11 {\n",
              "  background-color: #cbd8ee;\n",
              "  color: #000000;\n",
              "}\n",
              "#T_77fb6_row9_col12 {\n",
              "  background-color: #c1d4f4;\n",
              "  color: #000000;\n",
              "}\n",
              "#T_77fb6_row10_col2, #T_77fb6_row11_col8 {\n",
              "  background-color: #bad0f8;\n",
              "  color: #000000;\n",
              "}\n",
              "#T_77fb6_row10_col3 {\n",
              "  background-color: #3f53c6;\n",
              "  color: #f1f1f1;\n",
              "}\n",
              "#T_77fb6_row10_col7 {\n",
              "  background-color: #ecd3c5;\n",
              "  color: #000000;\n",
              "}\n",
              "#T_77fb6_row10_col11 {\n",
              "  background-color: #84a7fc;\n",
              "  color: #f1f1f1;\n",
              "}\n",
              "#T_77fb6_row10_col13 {\n",
              "  background-color: #e8d6cc;\n",
              "  color: #000000;\n",
              "}\n",
              "#T_77fb6_row11_col3 {\n",
              "  background-color: #80a3fa;\n",
              "  color: #f1f1f1;\n",
              "}\n",
              "#T_77fb6_row11_col5 {\n",
              "  background-color: #81a4fb;\n",
              "  color: #f1f1f1;\n",
              "}\n",
              "#T_77fb6_row11_col6 {\n",
              "  background-color: #4c66d6;\n",
              "  color: #f1f1f1;\n",
              "}\n",
              "#T_77fb6_row12_col4 {\n",
              "  background-color: #8caffe;\n",
              "  color: #000000;\n",
              "}\n",
              "#T_77fb6_row12_col5, #T_77fb6_row13_col5 {\n",
              "  background-color: #4b64d5;\n",
              "  color: #f1f1f1;\n",
              "}\n",
              "#T_77fb6_row12_col8 {\n",
              "  background-color: #cdd9ec;\n",
              "  color: #000000;\n",
              "}\n",
              "#T_77fb6_row12_col9 {\n",
              "  background-color: #dbdcde;\n",
              "  color: #000000;\n",
              "}\n",
              "#T_77fb6_row12_col11 {\n",
              "  background-color: #bbd1f8;\n",
              "  color: #000000;\n",
              "}\n",
              "#T_77fb6_row12_col13 {\n",
              "  background-color: #4f69d9;\n",
              "  color: #f1f1f1;\n",
              "}\n",
              "#T_77fb6_row13_col0 {\n",
              "  background-color: #5e7de7;\n",
              "  color: #f1f1f1;\n",
              "}\n",
              "#T_77fb6_row13_col2 {\n",
              "  background-color: #f1ccb8;\n",
              "  color: #000000;\n",
              "}\n",
              "#T_77fb6_row13_col7, #T_77fb6_row13_col10 {\n",
              "  background-color: #efcebd;\n",
              "  color: #000000;\n",
              "}\n",
              "</style>\n",
              "<table id=\"T_77fb6\" class=\"dataframe\">\n",
              "  <thead>\n",
              "    <tr>\n",
              "      <th class=\"blank level0\" >&nbsp;</th>\n",
              "      <th id=\"T_77fb6_level0_col0\" class=\"col_heading level0 col0\" >age</th>\n",
              "      <th id=\"T_77fb6_level0_col1\" class=\"col_heading level0 col1\" >sex</th>\n",
              "      <th id=\"T_77fb6_level0_col2\" class=\"col_heading level0 col2\" >cp</th>\n",
              "      <th id=\"T_77fb6_level0_col3\" class=\"col_heading level0 col3\" >trestbps</th>\n",
              "      <th id=\"T_77fb6_level0_col4\" class=\"col_heading level0 col4\" >chol</th>\n",
              "      <th id=\"T_77fb6_level0_col5\" class=\"col_heading level0 col5\" >fbs</th>\n",
              "      <th id=\"T_77fb6_level0_col6\" class=\"col_heading level0 col6\" >restecg</th>\n",
              "      <th id=\"T_77fb6_level0_col7\" class=\"col_heading level0 col7\" >thalach</th>\n",
              "      <th id=\"T_77fb6_level0_col8\" class=\"col_heading level0 col8\" >exang</th>\n",
              "      <th id=\"T_77fb6_level0_col9\" class=\"col_heading level0 col9\" >oldpeak</th>\n",
              "      <th id=\"T_77fb6_level0_col10\" class=\"col_heading level0 col10\" >slope</th>\n",
              "      <th id=\"T_77fb6_level0_col11\" class=\"col_heading level0 col11\" >ca</th>\n",
              "      <th id=\"T_77fb6_level0_col12\" class=\"col_heading level0 col12\" >thal</th>\n",
              "      <th id=\"T_77fb6_level0_col13\" class=\"col_heading level0 col13\" >target</th>\n",
              "    </tr>\n",
              "  </thead>\n",
              "  <tbody>\n",
              "    <tr>\n",
              "      <th id=\"T_77fb6_level0_row0\" class=\"row_heading level0 row0\" >age</th>\n",
              "      <td id=\"T_77fb6_row0_col0\" class=\"data row0 col0\" >1.000000</td>\n",
              "      <td id=\"T_77fb6_row0_col1\" class=\"data row0 col1\" >-0.103240</td>\n",
              "      <td id=\"T_77fb6_row0_col2\" class=\"data row0 col2\" >-0.071966</td>\n",
              "      <td id=\"T_77fb6_row0_col3\" class=\"data row0 col3\" >0.271121</td>\n",
              "      <td id=\"T_77fb6_row0_col4\" class=\"data row0 col4\" >0.219823</td>\n",
              "      <td id=\"T_77fb6_row0_col5\" class=\"data row0 col5\" >0.121243</td>\n",
              "      <td id=\"T_77fb6_row0_col6\" class=\"data row0 col6\" >-0.132696</td>\n",
              "      <td id=\"T_77fb6_row0_col7\" class=\"data row0 col7\" >-0.390227</td>\n",
              "      <td id=\"T_77fb6_row0_col8\" class=\"data row0 col8\" >0.088163</td>\n",
              "      <td id=\"T_77fb6_row0_col9\" class=\"data row0 col9\" >0.208137</td>\n",
              "      <td id=\"T_77fb6_row0_col10\" class=\"data row0 col10\" >-0.169105</td>\n",
              "      <td id=\"T_77fb6_row0_col11\" class=\"data row0 col11\" >0.271551</td>\n",
              "      <td id=\"T_77fb6_row0_col12\" class=\"data row0 col12\" >0.072297</td>\n",
              "      <td id=\"T_77fb6_row0_col13\" class=\"data row0 col13\" >-0.229324</td>\n",
              "    </tr>\n",
              "    <tr>\n",
              "      <th id=\"T_77fb6_level0_row1\" class=\"row_heading level0 row1\" >sex</th>\n",
              "      <td id=\"T_77fb6_row1_col0\" class=\"data row1 col0\" >-0.103240</td>\n",
              "      <td id=\"T_77fb6_row1_col1\" class=\"data row1 col1\" >1.000000</td>\n",
              "      <td id=\"T_77fb6_row1_col2\" class=\"data row1 col2\" >-0.041119</td>\n",
              "      <td id=\"T_77fb6_row1_col3\" class=\"data row1 col3\" >-0.078974</td>\n",
              "      <td id=\"T_77fb6_row1_col4\" class=\"data row1 col4\" >-0.198258</td>\n",
              "      <td id=\"T_77fb6_row1_col5\" class=\"data row1 col5\" >0.027200</td>\n",
              "      <td id=\"T_77fb6_row1_col6\" class=\"data row1 col6\" >-0.055117</td>\n",
              "      <td id=\"T_77fb6_row1_col7\" class=\"data row1 col7\" >-0.049365</td>\n",
              "      <td id=\"T_77fb6_row1_col8\" class=\"data row1 col8\" >0.139157</td>\n",
              "      <td id=\"T_77fb6_row1_col9\" class=\"data row1 col9\" >0.084687</td>\n",
              "      <td id=\"T_77fb6_row1_col10\" class=\"data row1 col10\" >-0.026666</td>\n",
              "      <td id=\"T_77fb6_row1_col11\" class=\"data row1 col11\" >0.111729</td>\n",
              "      <td id=\"T_77fb6_row1_col12\" class=\"data row1 col12\" >0.198424</td>\n",
              "      <td id=\"T_77fb6_row1_col13\" class=\"data row1 col13\" >-0.279501</td>\n",
              "    </tr>\n",
              "    <tr>\n",
              "      <th id=\"T_77fb6_level0_row2\" class=\"row_heading level0 row2\" >cp</th>\n",
              "      <td id=\"T_77fb6_row2_col0\" class=\"data row2 col0\" >-0.071966</td>\n",
              "      <td id=\"T_77fb6_row2_col1\" class=\"data row2 col1\" >-0.041119</td>\n",
              "      <td id=\"T_77fb6_row2_col2\" class=\"data row2 col2\" >1.000000</td>\n",
              "      <td id=\"T_77fb6_row2_col3\" class=\"data row2 col3\" >0.038177</td>\n",
              "      <td id=\"T_77fb6_row2_col4\" class=\"data row2 col4\" >-0.081641</td>\n",
              "      <td id=\"T_77fb6_row2_col5\" class=\"data row2 col5\" >0.079294</td>\n",
              "      <td id=\"T_77fb6_row2_col6\" class=\"data row2 col6\" >0.043581</td>\n",
              "      <td id=\"T_77fb6_row2_col7\" class=\"data row2 col7\" >0.306839</td>\n",
              "      <td id=\"T_77fb6_row2_col8\" class=\"data row2 col8\" >-0.401513</td>\n",
              "      <td id=\"T_77fb6_row2_col9\" class=\"data row2 col9\" >-0.174733</td>\n",
              "      <td id=\"T_77fb6_row2_col10\" class=\"data row2 col10\" >0.131633</td>\n",
              "      <td id=\"T_77fb6_row2_col11\" class=\"data row2 col11\" >-0.176206</td>\n",
              "      <td id=\"T_77fb6_row2_col12\" class=\"data row2 col12\" >-0.163341</td>\n",
              "      <td id=\"T_77fb6_row2_col13\" class=\"data row2 col13\" >0.434854</td>\n",
              "    </tr>\n",
              "    <tr>\n",
              "      <th id=\"T_77fb6_level0_row3\" class=\"row_heading level0 row3\" >trestbps</th>\n",
              "      <td id=\"T_77fb6_row3_col0\" class=\"data row3 col0\" >0.271121</td>\n",
              "      <td id=\"T_77fb6_row3_col1\" class=\"data row3 col1\" >-0.078974</td>\n",
              "      <td id=\"T_77fb6_row3_col2\" class=\"data row3 col2\" >0.038177</td>\n",
              "      <td id=\"T_77fb6_row3_col3\" class=\"data row3 col3\" >1.000000</td>\n",
              "      <td id=\"T_77fb6_row3_col4\" class=\"data row3 col4\" >0.127977</td>\n",
              "      <td id=\"T_77fb6_row3_col5\" class=\"data row3 col5\" >0.181767</td>\n",
              "      <td id=\"T_77fb6_row3_col6\" class=\"data row3 col6\" >-0.123794</td>\n",
              "      <td id=\"T_77fb6_row3_col7\" class=\"data row3 col7\" >-0.039264</td>\n",
              "      <td id=\"T_77fb6_row3_col8\" class=\"data row3 col8\" >0.061197</td>\n",
              "      <td id=\"T_77fb6_row3_col9\" class=\"data row3 col9\" >0.187434</td>\n",
              "      <td id=\"T_77fb6_row3_col10\" class=\"data row3 col10\" >-0.120445</td>\n",
              "      <td id=\"T_77fb6_row3_col11\" class=\"data row3 col11\" >0.104554</td>\n",
              "      <td id=\"T_77fb6_row3_col12\" class=\"data row3 col12\" >0.059276</td>\n",
              "      <td id=\"T_77fb6_row3_col13\" class=\"data row3 col13\" >-0.138772</td>\n",
              "    </tr>\n",
              "    <tr>\n",
              "      <th id=\"T_77fb6_level0_row4\" class=\"row_heading level0 row4\" >chol</th>\n",
              "      <td id=\"T_77fb6_row4_col0\" class=\"data row4 col0\" >0.219823</td>\n",
              "      <td id=\"T_77fb6_row4_col1\" class=\"data row4 col1\" >-0.198258</td>\n",
              "      <td id=\"T_77fb6_row4_col2\" class=\"data row4 col2\" >-0.081641</td>\n",
              "      <td id=\"T_77fb6_row4_col3\" class=\"data row4 col3\" >0.127977</td>\n",
              "      <td id=\"T_77fb6_row4_col4\" class=\"data row4 col4\" >1.000000</td>\n",
              "      <td id=\"T_77fb6_row4_col5\" class=\"data row4 col5\" >0.026917</td>\n",
              "      <td id=\"T_77fb6_row4_col6\" class=\"data row4 col6\" >-0.147410</td>\n",
              "      <td id=\"T_77fb6_row4_col7\" class=\"data row4 col7\" >-0.021772</td>\n",
              "      <td id=\"T_77fb6_row4_col8\" class=\"data row4 col8\" >0.067382</td>\n",
              "      <td id=\"T_77fb6_row4_col9\" class=\"data row4 col9\" >0.064880</td>\n",
              "      <td id=\"T_77fb6_row4_col10\" class=\"data row4 col10\" >-0.014248</td>\n",
              "      <td id=\"T_77fb6_row4_col11\" class=\"data row4 col11\" >0.074259</td>\n",
              "      <td id=\"T_77fb6_row4_col12\" class=\"data row4 col12\" >0.100244</td>\n",
              "      <td id=\"T_77fb6_row4_col13\" class=\"data row4 col13\" >-0.099966</td>\n",
              "    </tr>\n",
              "    <tr>\n",
              "      <th id=\"T_77fb6_level0_row5\" class=\"row_heading level0 row5\" >fbs</th>\n",
              "      <td id=\"T_77fb6_row5_col0\" class=\"data row5 col0\" >0.121243</td>\n",
              "      <td id=\"T_77fb6_row5_col1\" class=\"data row5 col1\" >0.027200</td>\n",
              "      <td id=\"T_77fb6_row5_col2\" class=\"data row5 col2\" >0.079294</td>\n",
              "      <td id=\"T_77fb6_row5_col3\" class=\"data row5 col3\" >0.181767</td>\n",
              "      <td id=\"T_77fb6_row5_col4\" class=\"data row5 col4\" >0.026917</td>\n",
              "      <td id=\"T_77fb6_row5_col5\" class=\"data row5 col5\" >1.000000</td>\n",
              "      <td id=\"T_77fb6_row5_col6\" class=\"data row5 col6\" >-0.104051</td>\n",
              "      <td id=\"T_77fb6_row5_col7\" class=\"data row5 col7\" >-0.008866</td>\n",
              "      <td id=\"T_77fb6_row5_col8\" class=\"data row5 col8\" >0.049261</td>\n",
              "      <td id=\"T_77fb6_row5_col9\" class=\"data row5 col9\" >0.010859</td>\n",
              "      <td id=\"T_77fb6_row5_col10\" class=\"data row5 col10\" >-0.061902</td>\n",
              "      <td id=\"T_77fb6_row5_col11\" class=\"data row5 col11\" >0.137156</td>\n",
              "      <td id=\"T_77fb6_row5_col12\" class=\"data row5 col12\" >-0.042177</td>\n",
              "      <td id=\"T_77fb6_row5_col13\" class=\"data row5 col13\" >-0.041164</td>\n",
              "    </tr>\n",
              "    <tr>\n",
              "      <th id=\"T_77fb6_level0_row6\" class=\"row_heading level0 row6\" >restecg</th>\n",
              "      <td id=\"T_77fb6_row6_col0\" class=\"data row6 col0\" >-0.132696</td>\n",
              "      <td id=\"T_77fb6_row6_col1\" class=\"data row6 col1\" >-0.055117</td>\n",
              "      <td id=\"T_77fb6_row6_col2\" class=\"data row6 col2\" >0.043581</td>\n",
              "      <td id=\"T_77fb6_row6_col3\" class=\"data row6 col3\" >-0.123794</td>\n",
              "      <td id=\"T_77fb6_row6_col4\" class=\"data row6 col4\" >-0.147410</td>\n",
              "      <td id=\"T_77fb6_row6_col5\" class=\"data row6 col5\" >-0.104051</td>\n",
              "      <td id=\"T_77fb6_row6_col6\" class=\"data row6 col6\" >1.000000</td>\n",
              "      <td id=\"T_77fb6_row6_col7\" class=\"data row6 col7\" >0.048411</td>\n",
              "      <td id=\"T_77fb6_row6_col8\" class=\"data row6 col8\" >-0.065606</td>\n",
              "      <td id=\"T_77fb6_row6_col9\" class=\"data row6 col9\" >-0.050114</td>\n",
              "      <td id=\"T_77fb6_row6_col10\" class=\"data row6 col10\" >0.086086</td>\n",
              "      <td id=\"T_77fb6_row6_col11\" class=\"data row6 col11\" >-0.078072</td>\n",
              "      <td id=\"T_77fb6_row6_col12\" class=\"data row6 col12\" >-0.020504</td>\n",
              "      <td id=\"T_77fb6_row6_col13\" class=\"data row6 col13\" >0.134468</td>\n",
              "    </tr>\n",
              "    <tr>\n",
              "      <th id=\"T_77fb6_level0_row7\" class=\"row_heading level0 row7\" >thalach</th>\n",
              "      <td id=\"T_77fb6_row7_col0\" class=\"data row7 col0\" >-0.390227</td>\n",
              "      <td id=\"T_77fb6_row7_col1\" class=\"data row7 col1\" >-0.049365</td>\n",
              "      <td id=\"T_77fb6_row7_col2\" class=\"data row7 col2\" >0.306839</td>\n",
              "      <td id=\"T_77fb6_row7_col3\" class=\"data row7 col3\" >-0.039264</td>\n",
              "      <td id=\"T_77fb6_row7_col4\" class=\"data row7 col4\" >-0.021772</td>\n",
              "      <td id=\"T_77fb6_row7_col5\" class=\"data row7 col5\" >-0.008866</td>\n",
              "      <td id=\"T_77fb6_row7_col6\" class=\"data row7 col6\" >0.048411</td>\n",
              "      <td id=\"T_77fb6_row7_col7\" class=\"data row7 col7\" >1.000000</td>\n",
              "      <td id=\"T_77fb6_row7_col8\" class=\"data row7 col8\" >-0.380281</td>\n",
              "      <td id=\"T_77fb6_row7_col9\" class=\"data row7 col9\" >-0.349796</td>\n",
              "      <td id=\"T_77fb6_row7_col10\" class=\"data row7 col10\" >0.395308</td>\n",
              "      <td id=\"T_77fb6_row7_col11\" class=\"data row7 col11\" >-0.207888</td>\n",
              "      <td id=\"T_77fb6_row7_col12\" class=\"data row7 col12\" >-0.098068</td>\n",
              "      <td id=\"T_77fb6_row7_col13\" class=\"data row7 col13\" >0.422895</td>\n",
              "    </tr>\n",
              "    <tr>\n",
              "      <th id=\"T_77fb6_level0_row8\" class=\"row_heading level0 row8\" >exang</th>\n",
              "      <td id=\"T_77fb6_row8_col0\" class=\"data row8 col0\" >0.088163</td>\n",
              "      <td id=\"T_77fb6_row8_col1\" class=\"data row8 col1\" >0.139157</td>\n",
              "      <td id=\"T_77fb6_row8_col2\" class=\"data row8 col2\" >-0.401513</td>\n",
              "      <td id=\"T_77fb6_row8_col3\" class=\"data row8 col3\" >0.061197</td>\n",
              "      <td id=\"T_77fb6_row8_col4\" class=\"data row8 col4\" >0.067382</td>\n",
              "      <td id=\"T_77fb6_row8_col5\" class=\"data row8 col5\" >0.049261</td>\n",
              "      <td id=\"T_77fb6_row8_col6\" class=\"data row8 col6\" >-0.065606</td>\n",
              "      <td id=\"T_77fb6_row8_col7\" class=\"data row8 col7\" >-0.380281</td>\n",
              "      <td id=\"T_77fb6_row8_col8\" class=\"data row8 col8\" >1.000000</td>\n",
              "      <td id=\"T_77fb6_row8_col9\" class=\"data row8 col9\" >0.310844</td>\n",
              "      <td id=\"T_77fb6_row8_col10\" class=\"data row8 col10\" >-0.267335</td>\n",
              "      <td id=\"T_77fb6_row8_col11\" class=\"data row8 col11\" >0.107849</td>\n",
              "      <td id=\"T_77fb6_row8_col12\" class=\"data row8 col12\" >0.197201</td>\n",
              "      <td id=\"T_77fb6_row8_col13\" class=\"data row8 col13\" >-0.438029</td>\n",
              "    </tr>\n",
              "    <tr>\n",
              "      <th id=\"T_77fb6_level0_row9\" class=\"row_heading level0 row9\" >oldpeak</th>\n",
              "      <td id=\"T_77fb6_row9_col0\" class=\"data row9 col0\" >0.208137</td>\n",
              "      <td id=\"T_77fb6_row9_col1\" class=\"data row9 col1\" >0.084687</td>\n",
              "      <td id=\"T_77fb6_row9_col2\" class=\"data row9 col2\" >-0.174733</td>\n",
              "      <td id=\"T_77fb6_row9_col3\" class=\"data row9 col3\" >0.187434</td>\n",
              "      <td id=\"T_77fb6_row9_col4\" class=\"data row9 col4\" >0.064880</td>\n",
              "      <td id=\"T_77fb6_row9_col5\" class=\"data row9 col5\" >0.010859</td>\n",
              "      <td id=\"T_77fb6_row9_col6\" class=\"data row9 col6\" >-0.050114</td>\n",
              "      <td id=\"T_77fb6_row9_col7\" class=\"data row9 col7\" >-0.349796</td>\n",
              "      <td id=\"T_77fb6_row9_col8\" class=\"data row9 col8\" >0.310844</td>\n",
              "      <td id=\"T_77fb6_row9_col9\" class=\"data row9 col9\" >1.000000</td>\n",
              "      <td id=\"T_77fb6_row9_col10\" class=\"data row9 col10\" >-0.575189</td>\n",
              "      <td id=\"T_77fb6_row9_col11\" class=\"data row9 col11\" >0.221816</td>\n",
              "      <td id=\"T_77fb6_row9_col12\" class=\"data row9 col12\" >0.202672</td>\n",
              "      <td id=\"T_77fb6_row9_col13\" class=\"data row9 col13\" >-0.438441</td>\n",
              "    </tr>\n",
              "    <tr>\n",
              "      <th id=\"T_77fb6_level0_row10\" class=\"row_heading level0 row10\" >slope</th>\n",
              "      <td id=\"T_77fb6_row10_col0\" class=\"data row10 col0\" >-0.169105</td>\n",
              "      <td id=\"T_77fb6_row10_col1\" class=\"data row10 col1\" >-0.026666</td>\n",
              "      <td id=\"T_77fb6_row10_col2\" class=\"data row10 col2\" >0.131633</td>\n",
              "      <td id=\"T_77fb6_row10_col3\" class=\"data row10 col3\" >-0.120445</td>\n",
              "      <td id=\"T_77fb6_row10_col4\" class=\"data row10 col4\" >-0.014248</td>\n",
              "      <td id=\"T_77fb6_row10_col5\" class=\"data row10 col5\" >-0.061902</td>\n",
              "      <td id=\"T_77fb6_row10_col6\" class=\"data row10 col6\" >0.086086</td>\n",
              "      <td id=\"T_77fb6_row10_col7\" class=\"data row10 col7\" >0.395308</td>\n",
              "      <td id=\"T_77fb6_row10_col8\" class=\"data row10 col8\" >-0.267335</td>\n",
              "      <td id=\"T_77fb6_row10_col9\" class=\"data row10 col9\" >-0.575189</td>\n",
              "      <td id=\"T_77fb6_row10_col10\" class=\"data row10 col10\" >1.000000</td>\n",
              "      <td id=\"T_77fb6_row10_col11\" class=\"data row10 col11\" >-0.073440</td>\n",
              "      <td id=\"T_77fb6_row10_col12\" class=\"data row10 col12\" >-0.094090</td>\n",
              "      <td id=\"T_77fb6_row10_col13\" class=\"data row10 col13\" >0.345512</td>\n",
              "    </tr>\n",
              "    <tr>\n",
              "      <th id=\"T_77fb6_level0_row11\" class=\"row_heading level0 row11\" >ca</th>\n",
              "      <td id=\"T_77fb6_row11_col0\" class=\"data row11 col0\" >0.271551</td>\n",
              "      <td id=\"T_77fb6_row11_col1\" class=\"data row11 col1\" >0.111729</td>\n",
              "      <td id=\"T_77fb6_row11_col2\" class=\"data row11 col2\" >-0.176206</td>\n",
              "      <td id=\"T_77fb6_row11_col3\" class=\"data row11 col3\" >0.104554</td>\n",
              "      <td id=\"T_77fb6_row11_col4\" class=\"data row11 col4\" >0.074259</td>\n",
              "      <td id=\"T_77fb6_row11_col5\" class=\"data row11 col5\" >0.137156</td>\n",
              "      <td id=\"T_77fb6_row11_col6\" class=\"data row11 col6\" >-0.078072</td>\n",
              "      <td id=\"T_77fb6_row11_col7\" class=\"data row11 col7\" >-0.207888</td>\n",
              "      <td id=\"T_77fb6_row11_col8\" class=\"data row11 col8\" >0.107849</td>\n",
              "      <td id=\"T_77fb6_row11_col9\" class=\"data row11 col9\" >0.221816</td>\n",
              "      <td id=\"T_77fb6_row11_col10\" class=\"data row11 col10\" >-0.073440</td>\n",
              "      <td id=\"T_77fb6_row11_col11\" class=\"data row11 col11\" >1.000000</td>\n",
              "      <td id=\"T_77fb6_row11_col12\" class=\"data row11 col12\" >0.149014</td>\n",
              "      <td id=\"T_77fb6_row11_col13\" class=\"data row11 col13\" >-0.382085</td>\n",
              "    </tr>\n",
              "    <tr>\n",
              "      <th id=\"T_77fb6_level0_row12\" class=\"row_heading level0 row12\" >thal</th>\n",
              "      <td id=\"T_77fb6_row12_col0\" class=\"data row12 col0\" >0.072297</td>\n",
              "      <td id=\"T_77fb6_row12_col1\" class=\"data row12 col1\" >0.198424</td>\n",
              "      <td id=\"T_77fb6_row12_col2\" class=\"data row12 col2\" >-0.163341</td>\n",
              "      <td id=\"T_77fb6_row12_col3\" class=\"data row12 col3\" >0.059276</td>\n",
              "      <td id=\"T_77fb6_row12_col4\" class=\"data row12 col4\" >0.100244</td>\n",
              "      <td id=\"T_77fb6_row12_col5\" class=\"data row12 col5\" >-0.042177</td>\n",
              "      <td id=\"T_77fb6_row12_col6\" class=\"data row12 col6\" >-0.020504</td>\n",
              "      <td id=\"T_77fb6_row12_col7\" class=\"data row12 col7\" >-0.098068</td>\n",
              "      <td id=\"T_77fb6_row12_col8\" class=\"data row12 col8\" >0.197201</td>\n",
              "      <td id=\"T_77fb6_row12_col9\" class=\"data row12 col9\" >0.202672</td>\n",
              "      <td id=\"T_77fb6_row12_col10\" class=\"data row12 col10\" >-0.094090</td>\n",
              "      <td id=\"T_77fb6_row12_col11\" class=\"data row12 col11\" >0.149014</td>\n",
              "      <td id=\"T_77fb6_row12_col12\" class=\"data row12 col12\" >1.000000</td>\n",
              "      <td id=\"T_77fb6_row12_col13\" class=\"data row12 col13\" >-0.337838</td>\n",
              "    </tr>\n",
              "    <tr>\n",
              "      <th id=\"T_77fb6_level0_row13\" class=\"row_heading level0 row13\" >target</th>\n",
              "      <td id=\"T_77fb6_row13_col0\" class=\"data row13 col0\" >-0.229324</td>\n",
              "      <td id=\"T_77fb6_row13_col1\" class=\"data row13 col1\" >-0.279501</td>\n",
              "      <td id=\"T_77fb6_row13_col2\" class=\"data row13 col2\" >0.434854</td>\n",
              "      <td id=\"T_77fb6_row13_col3\" class=\"data row13 col3\" >-0.138772</td>\n",
              "      <td id=\"T_77fb6_row13_col4\" class=\"data row13 col4\" >-0.099966</td>\n",
              "      <td id=\"T_77fb6_row13_col5\" class=\"data row13 col5\" >-0.041164</td>\n",
              "      <td id=\"T_77fb6_row13_col6\" class=\"data row13 col6\" >0.134468</td>\n",
              "      <td id=\"T_77fb6_row13_col7\" class=\"data row13 col7\" >0.422895</td>\n",
              "      <td id=\"T_77fb6_row13_col8\" class=\"data row13 col8\" >-0.438029</td>\n",
              "      <td id=\"T_77fb6_row13_col9\" class=\"data row13 col9\" >-0.438441</td>\n",
              "      <td id=\"T_77fb6_row13_col10\" class=\"data row13 col10\" >0.345512</td>\n",
              "      <td id=\"T_77fb6_row13_col11\" class=\"data row13 col11\" >-0.382085</td>\n",
              "      <td id=\"T_77fb6_row13_col12\" class=\"data row13 col12\" >-0.337838</td>\n",
              "      <td id=\"T_77fb6_row13_col13\" class=\"data row13 col13\" >1.000000</td>\n",
              "    </tr>\n",
              "  </tbody>\n",
              "</table>\n"
            ]
          },
          "metadata": {},
          "execution_count": 13
        }
      ]
    },
    {
      "cell_type": "code",
      "source": [],
      "metadata": {
        "id": "ibZWWuh1aDDo"
      },
      "execution_count": 13,
      "outputs": []
    },
    {
      "cell_type": "markdown",
      "source": [
        "##**Partie 3: Modélisation**"
      ],
      "metadata": {
        "id": "JRZIKG3TcVsu"
      }
    },
    {
      "cell_type": "code",
      "source": [
        "X = df_heart.drop('target', axis=1)  # X contient toutes les colonnes sauf 'target'\n",
        "y = df_heart['target'] # y contient uniquement la colonne 'target'"
      ],
      "metadata": {
        "id": "QOfsf0peb3SE"
      },
      "execution_count": 14,
      "outputs": []
    },
    {
      "cell_type": "code",
      "source": [
        "# print(X,y)\n",
        "X_train, X_test, y_train, y_test = train_test_split(X, y, test_size=0.3, random_state=0)\n",
        "X_train.shape, X_test.shape, y_train.shape, y_test.shape"
      ],
      "metadata": {
        "colab": {
          "base_uri": "https://localhost:8080/"
        },
        "id": "vt3PfGotfER8",
        "outputId": "0190e846-f2ec-4912-94f9-b3f04c0f05b3"
      },
      "execution_count": 15,
      "outputs": [
        {
          "output_type": "execute_result",
          "data": {
            "text/plain": [
              "((717, 13), (308, 13), (717,), (308,))"
            ]
          },
          "metadata": {},
          "execution_count": 15
        }
      ]
    },
    {
      "cell_type": "markdown",
      "source": [
        "### RandomForestClassifier"
      ],
      "metadata": {
        "id": "XVAKVq58ctzu"
      }
    },
    {
      "cell_type": "code",
      "source": [
        "# Construction, entraînement et test de l'algorithme : Random Forest Classifier\n",
        "%%time\n",
        "from sklearn.ensemble import RandomForestClassifier\n",
        "\n",
        "#Construction\n",
        "rf_classifier = RandomForestClassifier()\n",
        "#Entrainement\n",
        "rf_classifier.fit(X_train, y_train)"
      ],
      "metadata": {
        "colab": {
          "base_uri": "https://localhost:8080/",
          "height": 111
        },
        "id": "DgvDt6t8crXX",
        "outputId": "3dc51a1c-96c2-42ed-d814-1466e2250554"
      },
      "execution_count": 16,
      "outputs": [
        {
          "output_type": "stream",
          "name": "stdout",
          "text": [
            "CPU times: user 424 ms, sys: 20.4 ms, total: 444 ms\n",
            "Wall time: 831 ms\n"
          ]
        },
        {
          "output_type": "execute_result",
          "data": {
            "text/plain": [
              "RandomForestClassifier()"
            ],
            "text/html": [
              "<style>#sk-container-id-1 {color: black;background-color: white;}#sk-container-id-1 pre{padding: 0;}#sk-container-id-1 div.sk-toggleable {background-color: white;}#sk-container-id-1 label.sk-toggleable__label {cursor: pointer;display: block;width: 100%;margin-bottom: 0;padding: 0.3em;box-sizing: border-box;text-align: center;}#sk-container-id-1 label.sk-toggleable__label-arrow:before {content: \"▸\";float: left;margin-right: 0.25em;color: #696969;}#sk-container-id-1 label.sk-toggleable__label-arrow:hover:before {color: black;}#sk-container-id-1 div.sk-estimator:hover label.sk-toggleable__label-arrow:before {color: black;}#sk-container-id-1 div.sk-toggleable__content {max-height: 0;max-width: 0;overflow: hidden;text-align: left;background-color: #f0f8ff;}#sk-container-id-1 div.sk-toggleable__content pre {margin: 0.2em;color: black;border-radius: 0.25em;background-color: #f0f8ff;}#sk-container-id-1 input.sk-toggleable__control:checked~div.sk-toggleable__content {max-height: 200px;max-width: 100%;overflow: auto;}#sk-container-id-1 input.sk-toggleable__control:checked~label.sk-toggleable__label-arrow:before {content: \"▾\";}#sk-container-id-1 div.sk-estimator input.sk-toggleable__control:checked~label.sk-toggleable__label {background-color: #d4ebff;}#sk-container-id-1 div.sk-label input.sk-toggleable__control:checked~label.sk-toggleable__label {background-color: #d4ebff;}#sk-container-id-1 input.sk-hidden--visually {border: 0;clip: rect(1px 1px 1px 1px);clip: rect(1px, 1px, 1px, 1px);height: 1px;margin: -1px;overflow: hidden;padding: 0;position: absolute;width: 1px;}#sk-container-id-1 div.sk-estimator {font-family: monospace;background-color: #f0f8ff;border: 1px dotted black;border-radius: 0.25em;box-sizing: border-box;margin-bottom: 0.5em;}#sk-container-id-1 div.sk-estimator:hover {background-color: #d4ebff;}#sk-container-id-1 div.sk-parallel-item::after {content: \"\";width: 100%;border-bottom: 1px solid gray;flex-grow: 1;}#sk-container-id-1 div.sk-label:hover label.sk-toggleable__label {background-color: #d4ebff;}#sk-container-id-1 div.sk-serial::before {content: \"\";position: absolute;border-left: 1px solid gray;box-sizing: border-box;top: 0;bottom: 0;left: 50%;z-index: 0;}#sk-container-id-1 div.sk-serial {display: flex;flex-direction: column;align-items: center;background-color: white;padding-right: 0.2em;padding-left: 0.2em;position: relative;}#sk-container-id-1 div.sk-item {position: relative;z-index: 1;}#sk-container-id-1 div.sk-parallel {display: flex;align-items: stretch;justify-content: center;background-color: white;position: relative;}#sk-container-id-1 div.sk-item::before, #sk-container-id-1 div.sk-parallel-item::before {content: \"\";position: absolute;border-left: 1px solid gray;box-sizing: border-box;top: 0;bottom: 0;left: 50%;z-index: -1;}#sk-container-id-1 div.sk-parallel-item {display: flex;flex-direction: column;z-index: 1;position: relative;background-color: white;}#sk-container-id-1 div.sk-parallel-item:first-child::after {align-self: flex-end;width: 50%;}#sk-container-id-1 div.sk-parallel-item:last-child::after {align-self: flex-start;width: 50%;}#sk-container-id-1 div.sk-parallel-item:only-child::after {width: 0;}#sk-container-id-1 div.sk-dashed-wrapped {border: 1px dashed gray;margin: 0 0.4em 0.5em 0.4em;box-sizing: border-box;padding-bottom: 0.4em;background-color: white;}#sk-container-id-1 div.sk-label label {font-family: monospace;font-weight: bold;display: inline-block;line-height: 1.2em;}#sk-container-id-1 div.sk-label-container {text-align: center;}#sk-container-id-1 div.sk-container {/* jupyter's `normalize.less` sets `[hidden] { display: none; }` but bootstrap.min.css set `[hidden] { display: none !important; }` so we also need the `!important` here to be able to override the default hidden behavior on the sphinx rendered scikit-learn.org. See: https://github.com/scikit-learn/scikit-learn/issues/21755 */display: inline-block !important;position: relative;}#sk-container-id-1 div.sk-text-repr-fallback {display: none;}</style><div id=\"sk-container-id-1\" class=\"sk-top-container\"><div class=\"sk-text-repr-fallback\"><pre>RandomForestClassifier()</pre><b>In a Jupyter environment, please rerun this cell to show the HTML representation or trust the notebook. <br />On GitHub, the HTML representation is unable to render, please try loading this page with nbviewer.org.</b></div><div class=\"sk-container\" hidden><div class=\"sk-item\"><div class=\"sk-estimator sk-toggleable\"><input class=\"sk-toggleable__control sk-hidden--visually\" id=\"sk-estimator-id-1\" type=\"checkbox\" checked><label for=\"sk-estimator-id-1\" class=\"sk-toggleable__label sk-toggleable__label-arrow\">RandomForestClassifier</label><div class=\"sk-toggleable__content\"><pre>RandomForestClassifier()</pre></div></div></div></div></div>"
            ]
          },
          "metadata": {},
          "execution_count": 16
        }
      ]
    },
    {
      "cell_type": "code",
      "source": [
        "y_pred_rf = rf_classifier.predict(X_test)\n",
        "y_pred_rf"
      ],
      "metadata": {
        "colab": {
          "base_uri": "https://localhost:8080/"
        },
        "id": "tMGVjzuPdPF-",
        "outputId": "27bda56d-7eca-4228-8202-beb4caa2e540"
      },
      "execution_count": 17,
      "outputs": [
        {
          "output_type": "execute_result",
          "data": {
            "text/plain": [
              "array([1, 0, 0, 1, 0, 0, 0, 0, 0, 0, 0, 0, 1, 0, 1, 1, 1, 0, 1, 0, 1, 1,\n",
              "       1, 1, 1, 1, 1, 0, 1, 1, 1, 0, 0, 1, 0, 0, 0, 0, 1, 1, 0, 1, 1, 1,\n",
              "       1, 1, 1, 0, 0, 0, 0, 0, 1, 0, 0, 0, 0, 1, 0, 0, 0, 0, 1, 0, 0, 0,\n",
              "       0, 1, 1, 1, 1, 1, 1, 0, 0, 0, 0, 1, 0, 0, 0, 0, 1, 0, 1, 0, 1, 0,\n",
              "       1, 0, 0, 0, 1, 1, 1, 0, 0, 0, 1, 1, 1, 1, 1, 0, 0, 1, 0, 1, 0, 1,\n",
              "       1, 0, 1, 0, 1, 0, 1, 0, 0, 1, 0, 1, 1, 0, 0, 1, 1, 1, 1, 0, 0, 0,\n",
              "       1, 1, 1, 0, 0, 1, 0, 1, 1, 0, 1, 0, 0, 1, 1, 1, 1, 0, 1, 1, 1, 0,\n",
              "       0, 0, 1, 1, 0, 0, 0, 1, 1, 0, 1, 1, 1, 1, 1, 1, 1, 1, 1, 1, 1, 1,\n",
              "       0, 1, 1, 0, 0, 1, 0, 0, 1, 0, 1, 0, 1, 0, 0, 1, 0, 1, 0, 1, 1, 1,\n",
              "       0, 0, 1, 1, 1, 0, 1, 1, 1, 1, 1, 0, 1, 0, 1, 0, 0, 0, 1, 0, 1, 1,\n",
              "       0, 1, 1, 0, 1, 0, 0, 1, 1, 0, 0, 1, 1, 0, 1, 0, 1, 1, 0, 0, 0, 0,\n",
              "       0, 0, 1, 1, 0, 1, 0, 0, 0, 0, 1, 1, 1, 1, 1, 0, 0, 0, 1, 1, 1, 1,\n",
              "       1, 0, 0, 1, 1, 1, 0, 0, 1, 0, 1, 0, 0, 1, 1, 1, 0, 1, 1, 0, 1, 0,\n",
              "       0, 1, 1, 1, 0, 1, 0, 1, 0, 1, 0, 1, 0, 1, 1, 0, 1, 1, 1, 0, 1, 0])"
            ]
          },
          "metadata": {},
          "execution_count": 17
        }
      ]
    },
    {
      "cell_type": "code",
      "source": [
        "# Algorithme : modèle Random Forest Classifier\n",
        "from sklearn.metrics import accuracy_score, precision_score, recall_score, f1_score\n",
        "accuracy_score_rf = accuracy_score(y_test, y_pred_rf)\n",
        "precision_score_rf = precision_score(y_test, y_pred_rf, average='macro')\n",
        "recall_score_rf = recall_score(y_test, y_pred_rf, average='macro')\n",
        "f1_score_rf = f1_score(y_test, y_pred_rf, average='macro')\n",
        "\n",
        "print(\"accuracy rf = \",accuracy_score_rf)\n",
        "print(\"precision rf = \",precision_score_rf)\n",
        "print(\"recall rf = \",recall_score_rf)\n",
        "print(\"f1 rf = \",f1_score_rf)"
      ],
      "metadata": {
        "colab": {
          "base_uri": "https://localhost:8080/"
        },
        "id": "09446c43dIuW",
        "outputId": "42b4aa2f-2c9c-4906-fdde-1d9485a13ddf"
      },
      "execution_count": 18,
      "outputs": [
        {
          "output_type": "stream",
          "name": "stdout",
          "text": [
            "accuracy rf =  1.0\n",
            "precision rf =  1.0\n",
            "recall rf =  1.0\n",
            "f1 rf =  1.0\n"
          ]
        }
      ]
    },
    {
      "cell_type": "code",
      "source": [
        "#Etape 1 : Test\n",
        "y_pred_rf = rf_classifier.predict(X_test)\n",
        "#Etape 2 Calcul de la matrice de confusion\n",
        "from sklearn.metrics import confusion_matrix\n",
        "cm_rf = confusion_matrix(y_test, y_pred_rf)\n",
        "print(cm_rf)"
      ],
      "metadata": {
        "colab": {
          "base_uri": "https://localhost:8080/"
        },
        "id": "t306-cfUdb3M",
        "outputId": "f71d7940-6e34-43ea-b0d5-7c6ed9bf1a90"
      },
      "execution_count": 19,
      "outputs": [
        {
          "output_type": "stream",
          "name": "stdout",
          "text": [
            "[[145   0]\n",
            " [  0 163]]\n"
          ]
        }
      ]
    },
    {
      "cell_type": "code",
      "source": [
        "conf_matrix = confusion_matrix(y_true=y_test, y_pred=y_pred_rf)\n",
        "#\n",
        "# Print the confusion matrix using Matplotlib\n",
        "#\n",
        "fig, ax = plt.subplots(figsize=(7.5, 7.5))\n",
        "ax.matshow(conf_matrix, cmap=plt.cm.Blues, alpha=0.3)\n",
        "for i in range(conf_matrix.shape[0]):\n",
        "    for j in range(conf_matrix.shape[1]):\n",
        "        ax.text(x=j, y=i,s=conf_matrix[i, j], va='center', ha='center', size='xx-large')\n",
        "\n",
        "plt.xlabel('Predictions', fontsize=18)\n",
        "plt.ylabel('Actuals', fontsize=18)\n",
        "plt.title('Confusion Matrix', fontsize=18)\n",
        "plt.show()"
      ],
      "metadata": {
        "colab": {
          "base_uri": "https://localhost:8080/",
          "height": 699
        },
        "id": "vderq0ARuf5e",
        "outputId": "26bf560a-9e14-44e2-f1ff-e31e9687ab92"
      },
      "execution_count": 20,
      "outputs": [
        {
          "output_type": "display_data",
          "data": {
            "text/plain": [
              "<Figure size 750x750 with 1 Axes>"
            ],
            "image/png": "[encoded data removed]"
          },
          "metadata": {}
        }
      ]
    },
    {
      "cell_type": "markdown",
      "source": [
        "### DNN"
      ],
      "metadata": {
        "id": "VkA_houJmJYd"
      }
    },
    {
      "cell_type": "markdown",
      "source": [
        "*Modèle 2*\n",
        "* Input (Entrée)\n",
        "* Couche cachée (Hidden Layer) à 128 neurones, à fonction d'activation 'RELU'\n",
        "* Couche cachée (Hidden Layer) à 512 neurones, à fonction d'activation 'RELU'\n",
        "* Couche cachée (Hidden Layer) à 256 neurones, à fonction d'activation 'RELU'\n",
        "* Output (Sortie)"
      ],
      "metadata": {
        "id": "uui8tqXXhI3u"
      }
    },
    {
      "cell_type": "code",
      "source": [
        "from keras import models\n",
        "from keras import layers\n",
        "\n",
        "model_dnn = models.Sequential()\n",
        "model_dnn.add(layers.Dense(128, activation='relu', input_shape=(X.shape[1],)))\n",
        "model_dnn.add(layers.Dense(512, activation='relu'))\n",
        "model_dnn.add(layers.Dense(256, activation='relu'))\n",
        "model_dnn.add(layers.Dense(1, activation='softmax'))\n",
        "\n",
        "\n",
        "model_dnn.summary()"
      ],
      "metadata": {
        "colab": {
          "base_uri": "https://localhost:8080/"
        },
        "id": "y7QDORJbhHyO",
        "outputId": "5086a768-3187-45ed-9ad6-64bfb101b075"
      },
      "execution_count": 21,
      "outputs": [
        {
          "output_type": "stream",
          "name": "stdout",
          "text": [
            "Model: \"sequential\"\n",
            "_________________________________________________________________\n",
            " Layer (type)                Output Shape              Param #   \n",
            "=================================================================\n",
            " dense (Dense)               (None, 128)               1792      \n",
            "                                                                 \n",
            " dense_1 (Dense)             (None, 512)               66048     \n",
            "                                                                 \n",
            " dense_2 (Dense)             (None, 256)               131328    \n",
            "                                                                 \n",
            " dense_3 (Dense)             (None, 1)                 257       \n",
            "                                                                 \n",
            "=================================================================\n",
            "Total params: 199425 (779.00 KB)\n",
            "Trainable params: 199425 (779.00 KB)\n",
            "Non-trainable params: 0 (0.00 Byte)\n",
            "_________________________________________________________________\n"
          ]
        }
      ]
    },
    {
      "cell_type": "code",
      "source": [
        "model_dnn.compile(\n",
        "    optimizer=tf.keras.optimizers.Adam(learning_rate=1e-2),\n",
        "    loss=\"binary_crossentropy\",\n",
        "    metrics=[\"accuracy\"]\n",
        "    )\n",
        "\n",
        "hist = model_dnn.fit(\n",
        "  x=np.asarray(X).astype(np.float32),\n",
        "  y=np.asarray(y).astype(np.float32),\n",
        "  batch_size=8,\n",
        "  epochs=100,\n",
        "  validation_split=0.2\n",
        ")"
      ],
      "metadata": {
        "colab": {
          "base_uri": "https://localhost:8080/"
        },
        "id": "SCepWuIPiUlt",
        "outputId": "0a129665-fcd5-4afb-cca1-b57a9c31d9a2"
      },
      "execution_count": 22,
      "outputs": [
        {
          "output_type": "stream",
          "name": "stdout",
          "text": [
            "Epoch 1/100\n",
            "103/103 [==============================] - 7s 24ms/step - loss: 7.6626 - accuracy: 0.5207 - val_loss: 0.6433 - val_accuracy: 0.4829\n",
            "Epoch 2/100\n",
            "103/103 [==============================] - 1s 13ms/step - loss: 0.6316 - accuracy: 0.5207 - val_loss: 0.6837 - val_accuracy: 0.4829\n",
            "Epoch 3/100\n",
            "103/103 [==============================] - 1s 10ms/step - loss: 0.5880 - accuracy: 0.5207 - val_loss: 0.5872 - val_accuracy: 0.4829\n",
            "Epoch 4/100\n",
            "103/103 [==============================] - 1s 6ms/step - loss: 0.6491 - accuracy: 0.5207 - val_loss: 0.6556 - val_accuracy: 0.4829\n",
            "Epoch 5/100\n",
            "103/103 [==============================] - 1s 7ms/step - loss: 0.5299 - accuracy: 0.5207 - val_loss: 0.4972 - val_accuracy: 0.4829\n",
            "Epoch 6/100\n",
            "103/103 [==============================] - 1s 6ms/step - loss: 0.4932 - accuracy: 0.5207 - val_loss: 0.4847 - val_accuracy: 0.4829\n",
            "Epoch 7/100\n",
            "103/103 [==============================] - 1s 6ms/step - loss: 0.4941 - accuracy: 0.5207 - val_loss: 0.5138 - val_accuracy: 0.4829\n",
            "Epoch 8/100\n",
            "103/103 [==============================] - 1s 6ms/step - loss: 0.4659 - accuracy: 0.5207 - val_loss: 0.4650 - val_accuracy: 0.4829\n",
            "Epoch 9/100\n",
            "103/103 [==============================] - 1s 6ms/step - loss: 0.4238 - accuracy: 0.5207 - val_loss: 0.5048 - val_accuracy: 0.4829\n",
            "Epoch 10/100\n",
            "103/103 [==============================] - 1s 6ms/step - loss: 0.4018 - accuracy: 0.5207 - val_loss: 0.4695 - val_accuracy: 0.4829\n",
            "Epoch 11/100\n",
            "103/103 [==============================] - 1s 6ms/step - loss: 0.3861 - accuracy: 0.5207 - val_loss: 0.4953 - val_accuracy: 0.4829\n",
            "Epoch 12/100\n",
            "103/103 [==============================] - 1s 7ms/step - loss: 0.4143 - accuracy: 0.5207 - val_loss: 0.5504 - val_accuracy: 0.4829\n",
            "Epoch 13/100\n",
            "103/103 [==============================] - 1s 6ms/step - loss: 0.4131 - accuracy: 0.5207 - val_loss: 0.5053 - val_accuracy: 0.4829\n",
            "Epoch 14/100\n",
            "103/103 [==============================] - 1s 6ms/step - loss: 0.4058 - accuracy: 0.5207 - val_loss: 1.0018 - val_accuracy: 0.4829\n",
            "Epoch 15/100\n",
            "103/103 [==============================] - 1s 9ms/step - loss: 0.4542 - accuracy: 0.5207 - val_loss: 0.6865 - val_accuracy: 0.4829\n",
            "Epoch 16/100\n",
            "103/103 [==============================] - 1s 10ms/step - loss: 0.4352 - accuracy: 0.5207 - val_loss: 0.4929 - val_accuracy: 0.4829\n",
            "Epoch 17/100\n",
            "103/103 [==============================] - 1s 10ms/step - loss: 0.3929 - accuracy: 0.5207 - val_loss: 0.4650 - val_accuracy: 0.4829\n",
            "Epoch 18/100\n",
            "103/103 [==============================] - 1s 10ms/step - loss: 0.4009 - accuracy: 0.5207 - val_loss: 0.4648 - val_accuracy: 0.4829\n",
            "Epoch 19/100\n",
            "103/103 [==============================] - 1s 9ms/step - loss: 0.4321 - accuracy: 0.5207 - val_loss: 0.4639 - val_accuracy: 0.4829\n",
            "Epoch 20/100\n",
            "103/103 [==============================] - 1s 9ms/step - loss: 0.4424 - accuracy: 0.5207 - val_loss: 0.4990 - val_accuracy: 0.4829\n",
            "Epoch 21/100\n",
            "103/103 [==============================] - 1s 8ms/step - loss: 0.3893 - accuracy: 0.5207 - val_loss: 0.4455 - val_accuracy: 0.4829\n",
            "Epoch 22/100\n",
            "103/103 [==============================] - 1s 7ms/step - loss: 0.3867 - accuracy: 0.5207 - val_loss: 0.4994 - val_accuracy: 0.4829\n",
            "Epoch 23/100\n",
            "103/103 [==============================] - 1s 7ms/step - loss: 0.3720 - accuracy: 0.5207 - val_loss: 0.4620 - val_accuracy: 0.4829\n",
            "Epoch 24/100\n",
            "103/103 [==============================] - 1s 6ms/step - loss: 0.3975 - accuracy: 0.5207 - val_loss: 0.8113 - val_accuracy: 0.4829\n",
            "Epoch 25/100\n",
            "103/103 [==============================] - 1s 6ms/step - loss: 0.4326 - accuracy: 0.5207 - val_loss: 0.4574 - val_accuracy: 0.4829\n",
            "Epoch 26/100\n",
            "103/103 [==============================] - 1s 6ms/step - loss: 0.3911 - accuracy: 0.5207 - val_loss: 0.6235 - val_accuracy: 0.4829\n",
            "Epoch 27/100\n",
            "103/103 [==============================] - 1s 6ms/step - loss: 0.3993 - accuracy: 0.5207 - val_loss: 0.4672 - val_accuracy: 0.4829\n",
            "Epoch 28/100\n",
            "103/103 [==============================] - 1s 7ms/step - loss: 0.3977 - accuracy: 0.5207 - val_loss: 0.5450 - val_accuracy: 0.4829\n",
            "Epoch 29/100\n",
            "103/103 [==============================] - 1s 6ms/step - loss: 0.3828 - accuracy: 0.5207 - val_loss: 0.4509 - val_accuracy: 0.4829\n",
            "Epoch 30/100\n",
            "103/103 [==============================] - 1s 6ms/step - loss: 0.4001 - accuracy: 0.5207 - val_loss: 0.5013 - val_accuracy: 0.4829\n",
            "Epoch 31/100\n",
            "103/103 [==============================] - 1s 6ms/step - loss: 0.4349 - accuracy: 0.5207 - val_loss: 0.4891 - val_accuracy: 0.4829\n",
            "Epoch 32/100\n",
            "103/103 [==============================] - 1s 6ms/step - loss: 0.4081 - accuracy: 0.5207 - val_loss: 0.4742 - val_accuracy: 0.4829\n",
            "Epoch 33/100\n",
            "103/103 [==============================] - 1s 7ms/step - loss: 0.4017 - accuracy: 0.5207 - val_loss: 0.4922 - val_accuracy: 0.4829\n",
            "Epoch 34/100\n",
            "103/103 [==============================] - 1s 6ms/step - loss: 0.3622 - accuracy: 0.5207 - val_loss: 0.4519 - val_accuracy: 0.4829\n",
            "Epoch 35/100\n",
            "103/103 [==============================] - 1s 6ms/step - loss: 0.3708 - accuracy: 0.5207 - val_loss: 0.4547 - val_accuracy: 0.4829\n",
            "Epoch 36/100\n",
            "103/103 [==============================] - 1s 10ms/step - loss: 0.3899 - accuracy: 0.5207 - val_loss: 0.7010 - val_accuracy: 0.4829\n",
            "Epoch 37/100\n",
            "103/103 [==============================] - 1s 11ms/step - loss: 0.4496 - accuracy: 0.5207 - val_loss: 0.6315 - val_accuracy: 0.4829\n",
            "Epoch 38/100\n",
            "103/103 [==============================] - 1s 10ms/step - loss: 0.4084 - accuracy: 0.5207 - val_loss: 0.4889 - val_accuracy: 0.4829\n",
            "Epoch 39/100\n",
            "103/103 [==============================] - 1s 10ms/step - loss: 0.3868 - accuracy: 0.5207 - val_loss: 0.4461 - val_accuracy: 0.4829\n",
            "Epoch 40/100\n",
            "103/103 [==============================] - 1s 10ms/step - loss: 0.3711 - accuracy: 0.5207 - val_loss: 0.4872 - val_accuracy: 0.4829\n",
            "Epoch 41/100\n",
            "103/103 [==============================] - 1s 11ms/step - loss: 0.3833 - accuracy: 0.5207 - val_loss: 0.4761 - val_accuracy: 0.4829\n",
            "Epoch 42/100\n",
            "103/103 [==============================] - 1s 7ms/step - loss: 0.5024 - accuracy: 0.5207 - val_loss: 0.4760 - val_accuracy: 0.4829\n",
            "Epoch 43/100\n",
            "103/103 [==============================] - 1s 6ms/step - loss: 0.3884 - accuracy: 0.5207 - val_loss: 0.5300 - val_accuracy: 0.4829\n",
            "Epoch 44/100\n",
            "103/103 [==============================] - 1s 6ms/step - loss: 0.3914 - accuracy: 0.5207 - val_loss: 0.4722 - val_accuracy: 0.4829\n",
            "Epoch 45/100\n",
            "103/103 [==============================] - 1s 6ms/step - loss: 0.3812 - accuracy: 0.5207 - val_loss: 0.4618 - val_accuracy: 0.4829\n",
            "Epoch 46/100\n",
            "103/103 [==============================] - 1s 6ms/step - loss: 0.3662 - accuracy: 0.5207 - val_loss: 0.5096 - val_accuracy: 0.4829\n",
            "Epoch 47/100\n",
            "103/103 [==============================] - 1s 6ms/step - loss: 0.3539 - accuracy: 0.5207 - val_loss: 0.4630 - val_accuracy: 0.4829\n",
            "Epoch 48/100\n",
            "103/103 [==============================] - 1s 6ms/step - loss: 0.3726 - accuracy: 0.5207 - val_loss: 0.4639 - val_accuracy: 0.4829\n",
            "Epoch 49/100\n",
            "103/103 [==============================] - 1s 7ms/step - loss: 0.4688 - accuracy: 0.5207 - val_loss: 0.5982 - val_accuracy: 0.4829\n",
            "Epoch 50/100\n",
            "103/103 [==============================] - 1s 7ms/step - loss: 0.4461 - accuracy: 0.5207 - val_loss: 0.4523 - val_accuracy: 0.4829\n",
            "Epoch 51/100\n",
            "103/103 [==============================] - 1s 7ms/step - loss: 0.3867 - accuracy: 0.5207 - val_loss: 0.4625 - val_accuracy: 0.4829\n",
            "Epoch 52/100\n",
            "103/103 [==============================] - 1s 6ms/step - loss: 0.3753 - accuracy: 0.5207 - val_loss: 0.4703 - val_accuracy: 0.4829\n",
            "Epoch 53/100\n",
            "103/103 [==============================] - 1s 6ms/step - loss: 0.3749 - accuracy: 0.5207 - val_loss: 0.4722 - val_accuracy: 0.4829\n",
            "Epoch 54/100\n",
            "103/103 [==============================] - 1s 6ms/step - loss: 0.3765 - accuracy: 0.5207 - val_loss: 0.4998 - val_accuracy: 0.4829\n",
            "Epoch 55/100\n",
            "103/103 [==============================] - 1s 6ms/step - loss: 0.3861 - accuracy: 0.5207 - val_loss: 0.4578 - val_accuracy: 0.4829\n",
            "Epoch 56/100\n",
            "103/103 [==============================] - 1s 6ms/step - loss: 0.3694 - accuracy: 0.5207 - val_loss: 0.4662 - val_accuracy: 0.4829\n",
            "Epoch 57/100\n",
            "103/103 [==============================] - 1s 8ms/step - loss: 0.3664 - accuracy: 0.5207 - val_loss: 0.4903 - val_accuracy: 0.4829\n",
            "Epoch 58/100\n",
            "103/103 [==============================] - 1s 9ms/step - loss: 0.3884 - accuracy: 0.5207 - val_loss: 0.5053 - val_accuracy: 0.4829\n",
            "Epoch 59/100\n",
            "103/103 [==============================] - 1s 11ms/step - loss: 0.3554 - accuracy: 0.5207 - val_loss: 0.5798 - val_accuracy: 0.4829\n",
            "Epoch 60/100\n",
            "103/103 [==============================] - 1s 11ms/step - loss: 0.4254 - accuracy: 0.5207 - val_loss: 0.5096 - val_accuracy: 0.4829\n",
            "Epoch 61/100\n",
            "103/103 [==============================] - 1s 10ms/step - loss: 0.3886 - accuracy: 0.5207 - val_loss: 0.4895 - val_accuracy: 0.4829\n",
            "Epoch 62/100\n",
            "103/103 [==============================] - 1s 11ms/step - loss: 0.4238 - accuracy: 0.5207 - val_loss: 0.4858 - val_accuracy: 0.4829\n",
            "Epoch 63/100\n",
            "103/103 [==============================] - 1s 6ms/step - loss: 0.3777 - accuracy: 0.5207 - val_loss: 0.5831 - val_accuracy: 0.4829\n",
            "Epoch 64/100\n",
            "103/103 [==============================] - 1s 6ms/step - loss: 0.3759 - accuracy: 0.5207 - val_loss: 0.5623 - val_accuracy: 0.4829\n",
            "Epoch 65/100\n",
            "103/103 [==============================] - 1s 5ms/step - loss: 0.3853 - accuracy: 0.5207 - val_loss: 0.4674 - val_accuracy: 0.4829\n",
            "Epoch 66/100\n",
            "103/103 [==============================] - 1s 6ms/step - loss: 0.3524 - accuracy: 0.5207 - val_loss: 0.4602 - val_accuracy: 0.4829\n",
            "Epoch 67/100\n",
            "103/103 [==============================] - 1s 6ms/step - loss: 0.3811 - accuracy: 0.5207 - val_loss: 0.4697 - val_accuracy: 0.4829\n",
            "Epoch 68/100\n",
            "103/103 [==============================] - 1s 6ms/step - loss: 0.3627 - accuracy: 0.5207 - val_loss: 0.4692 - val_accuracy: 0.4829\n",
            "Epoch 69/100\n",
            "103/103 [==============================] - 1s 6ms/step - loss: 0.3551 - accuracy: 0.5207 - val_loss: 0.5206 - val_accuracy: 0.4829\n",
            "Epoch 70/100\n",
            "103/103 [==============================] - 1s 6ms/step - loss: 0.3636 - accuracy: 0.5207 - val_loss: 0.4566 - val_accuracy: 0.4829\n",
            "Epoch 71/100\n",
            "103/103 [==============================] - 1s 7ms/step - loss: 0.4354 - accuracy: 0.5207 - val_loss: 0.4621 - val_accuracy: 0.4829\n",
            "Epoch 72/100\n",
            "103/103 [==============================] - 1s 6ms/step - loss: 0.3890 - accuracy: 0.5207 - val_loss: 0.4925 - val_accuracy: 0.4829\n",
            "Epoch 73/100\n",
            "103/103 [==============================] - 1s 6ms/step - loss: 0.3903 - accuracy: 0.5207 - val_loss: 0.5144 - val_accuracy: 0.4829\n",
            "Epoch 74/100\n",
            "103/103 [==============================] - 1s 6ms/step - loss: 0.3568 - accuracy: 0.5207 - val_loss: 0.5618 - val_accuracy: 0.4829\n",
            "Epoch 75/100\n",
            "103/103 [==============================] - 1s 5ms/step - loss: 0.3956 - accuracy: 0.5207 - val_loss: 0.4593 - val_accuracy: 0.4829\n",
            "Epoch 76/100\n",
            "103/103 [==============================] - 1s 6ms/step - loss: 0.3619 - accuracy: 0.5207 - val_loss: 0.4551 - val_accuracy: 0.4829\n",
            "Epoch 77/100\n",
            "103/103 [==============================] - 1s 6ms/step - loss: 0.3720 - accuracy: 0.5207 - val_loss: 0.4870 - val_accuracy: 0.4829\n",
            "Epoch 78/100\n",
            "103/103 [==============================] - 1s 6ms/step - loss: 0.3661 - accuracy: 0.5207 - val_loss: 0.4681 - val_accuracy: 0.4829\n",
            "Epoch 79/100\n",
            "103/103 [==============================] - 1s 9ms/step - loss: 0.3708 - accuracy: 0.5207 - val_loss: 0.6496 - val_accuracy: 0.4829\n",
            "Epoch 80/100\n",
            "103/103 [==============================] - 1s 9ms/step - loss: 0.3702 - accuracy: 0.5207 - val_loss: 0.4627 - val_accuracy: 0.4829\n",
            "Epoch 81/100\n",
            "103/103 [==============================] - 1s 10ms/step - loss: 0.4067 - accuracy: 0.5207 - val_loss: 0.4787 - val_accuracy: 0.4829\n",
            "Epoch 82/100\n",
            "103/103 [==============================] - 1s 10ms/step - loss: 0.3681 - accuracy: 0.5207 - val_loss: 0.4735 - val_accuracy: 0.4829\n",
            "Epoch 83/100\n",
            "103/103 [==============================] - 1s 10ms/step - loss: 0.4837 - accuracy: 0.5207 - val_loss: 0.5196 - val_accuracy: 0.4829\n",
            "Epoch 84/100\n",
            "103/103 [==============================] - 1s 10ms/step - loss: 0.3747 - accuracy: 0.5207 - val_loss: 0.4654 - val_accuracy: 0.4829\n",
            "Epoch 85/100\n",
            "103/103 [==============================] - 1s 9ms/step - loss: 0.3641 - accuracy: 0.5207 - val_loss: 0.4575 - val_accuracy: 0.4829\n",
            "Epoch 86/100\n",
            "103/103 [==============================] - 1s 6ms/step - loss: 0.3644 - accuracy: 0.5207 - val_loss: 0.4712 - val_accuracy: 0.4829\n",
            "Epoch 87/100\n",
            "103/103 [==============================] - 1s 6ms/step - loss: 0.4035 - accuracy: 0.5207 - val_loss: 1.1089 - val_accuracy: 0.4829\n",
            "Epoch 88/100\n",
            "103/103 [==============================] - 1s 6ms/step - loss: 0.4203 - accuracy: 0.5207 - val_loss: 0.4980 - val_accuracy: 0.4829\n",
            "Epoch 89/100\n",
            "103/103 [==============================] - 1s 6ms/step - loss: 0.4120 - accuracy: 0.5207 - val_loss: 0.4861 - val_accuracy: 0.4829\n",
            "Epoch 90/100\n",
            "103/103 [==============================] - 1s 7ms/step - loss: 0.4071 - accuracy: 0.5207 - val_loss: 0.4636 - val_accuracy: 0.4829\n",
            "Epoch 91/100\n",
            "103/103 [==============================] - 1s 6ms/step - loss: 0.3684 - accuracy: 0.5207 - val_loss: 0.4717 - val_accuracy: 0.4829\n",
            "Epoch 92/100\n",
            "103/103 [==============================] - 1s 6ms/step - loss: 0.3885 - accuracy: 0.5207 - val_loss: 0.4695 - val_accuracy: 0.4829\n",
            "Epoch 93/100\n",
            "103/103 [==============================] - 1s 6ms/step - loss: 0.3893 - accuracy: 0.5207 - val_loss: 0.4873 - val_accuracy: 0.4829\n",
            "Epoch 94/100\n",
            "103/103 [==============================] - 1s 6ms/step - loss: 0.3778 - accuracy: 0.5207 - val_loss: 0.4709 - val_accuracy: 0.4829\n",
            "Epoch 95/100\n",
            "103/103 [==============================] - 1s 6ms/step - loss: 0.3530 - accuracy: 0.5207 - val_loss: 0.4488 - val_accuracy: 0.4829\n",
            "Epoch 96/100\n",
            "103/103 [==============================] - 1s 6ms/step - loss: 0.3538 - accuracy: 0.5207 - val_loss: 0.4886 - val_accuracy: 0.4829\n",
            "Epoch 97/100\n",
            "103/103 [==============================] - 1s 7ms/step - loss: 0.3532 - accuracy: 0.5207 - val_loss: 0.4755 - val_accuracy: 0.4829\n",
            "Epoch 98/100\n",
            "103/103 [==============================] - 1s 14ms/step - loss: 0.3699 - accuracy: 0.5207 - val_loss: 0.5111 - val_accuracy: 0.4829\n",
            "Epoch 99/100\n",
            "103/103 [==============================] - 2s 20ms/step - loss: 0.4394 - accuracy: 0.5207 - val_loss: 0.5048 - val_accuracy: 0.4829\n",
            "Epoch 100/100\n",
            "103/103 [==============================] - 2s 19ms/step - loss: 0.3849 - accuracy: 0.5207 - val_loss: 0.4664 - val_accuracy: 0.4829\n"
          ]
        }
      ]
    },
    {
      "cell_type": "code",
      "source": [
        "#sauvegarde du modèle\n",
        "model_dnn.save(\"/content/model_dnn.h5\")"
      ],
      "metadata": {
        "colab": {
          "base_uri": "https://localhost:8080/"
        },
        "id": "eECIF_ekkCK1",
        "outputId": "0db5d56b-f63a-4c97-bdb9-f23fb9a880f7"
      },
      "execution_count": 23,
      "outputs": [
        {
          "output_type": "stream",
          "name": "stderr",
          "text": [
            "/usr/local/lib/python3.10/dist-packages/keras/src/engine/training.py:3103: UserWarning: You are saving your model as an HDF5 file via `model.save()`. This file format is considered legacy. We recommend using instead the native Keras format, e.g. `model.save('my_model.keras')`.\n",
            "  saving_api.save_model(\n"
          ]
        }
      ]
    },
    {
      "cell_type": "code",
      "source": [
        "#Évaluation du modèle\n",
        "import matplotlib.pyplot as plt\n",
        "\n",
        "plt.plot(hist.history['loss'])\n",
        "plt.plot(hist.history['val_loss'])\n",
        "plt.title('Loss du model')\n",
        "plt.ylabel('Erreur')\n",
        "plt.xlabel('Epoch')\n",
        "plt.legend(['train', 'val'], loc='upper left')\n",
        "plt.show()"
      ],
      "metadata": {
        "colab": {
          "base_uri": "https://localhost:8080/",
          "height": 472
        },
        "id": "DHETj2UniU9k",
        "outputId": "58c301b1-1f1e-4a0f-8421-3a737d791db2"
      },
      "execution_count": 24,
      "outputs": [
        {
          "output_type": "display_data",
          "data": {
            "text/plain": [
              "<Figure size 640x480 with 1 Axes>"
            ],
            "image/png": "[encoded data removed]"
          },
          "metadata": {}
        }
      ]
    },
    {
      "cell_type": "code",
      "source": [
        "# Évaluation du modèle sur les données de test\n",
        "y_pred = model_dnn.predict(X_test)\n",
        "y_pred_binary = (y_pred > 0.5).astype(int)\n",
        "\n",
        "accuracy_dnn = model_dnn.evaluate(X_test, y_test)[1]\n",
        "auc_dnn  = roc_auc_score(y_test, y_pred)\n",
        "f1_dnn  = f1_score(y_test, y_pred_binary)\n",
        "precision_dnn  = precision_score(y_test, y_pred_binary)\n",
        "recall_dnn  = recall_score(y_test, y_pred_binary)\n",
        "\n",
        "print(f\"Accuracy: {accuracy_dnn }\")\n",
        "print(f\"AUC: {auc_dnn }\")\n",
        "print(f\"F1-score: {f1_dnn }\")\n",
        "print(f\"Precision: {precision_dnn }\")\n",
        "print(f\"Recall: {recall_dnn }\")"
      ],
      "metadata": {
        "colab": {
          "base_uri": "https://localhost:8080/"
        },
        "id": "k7-KTFgNl5Lf",
        "outputId": "f7ce58e5-a787-4634-c181-812ac53bc87e"
      },
      "execution_count": 25,
      "outputs": [
        {
          "output_type": "stream",
          "name": "stdout",
          "text": [
            "10/10 [==============================] - 1s 8ms/step\n",
            "10/10 [==============================] - 1s 11ms/step - loss: 0.3313 - accuracy: 0.5292\n",
            "Accuracy: 0.5292207598686218\n",
            "AUC: 0.4992384176010154\n",
            "F1-score: 0.6921443736730362\n",
            "Precision: 0.5292207792207793\n",
            "Recall: 1.0\n"
          ]
        }
      ]
    },
    {
      "cell_type": "code",
      "source": [
        "# Définition d'un seuil de classification (par exemple 60%)\n",
        "threshold = 0.6\n",
        "\n",
        "# Labels prédits pour un seuil donné\n",
        "label_pred_threshold = (y_pred > threshold).astype(int)\n",
        "# Calcul de la matrice de confusion pour un seuil donné\n",
        "matrix_threshold = confusion_matrix(\n",
        "    y_true=y_test, y_pred=label_pred_threshold\n",
        ")\n",
        "\n",
        "print(matrix_threshold)"
      ],
      "metadata": {
        "colab": {
          "base_uri": "https://localhost:8080/"
        },
        "id": "4wcwPFf8iVAI",
        "outputId": "ee332cf9-a2be-48c9-f869-e86d1580ba67"
      },
      "execution_count": 26,
      "outputs": [
        {
          "output_type": "stream",
          "name": "stdout",
          "text": [
            "[[  0 145]\n",
            " [  0 163]]\n"
          ]
        }
      ]
    },
    {
      "cell_type": "code",
      "source": [
        "conf_matrix = confusion_matrix(y_true=y_test, y_pred=y_pred_binary)\n",
        "#\n",
        "# Print the confusion matrix using Matplotlib\n",
        "#\n",
        "fig, ax = plt.subplots(figsize=(7.5, 7.5))\n",
        "ax.matshow(conf_matrix, cmap=plt.cm.Blues, alpha=0.3)\n",
        "for i in range(conf_matrix.shape[0]):\n",
        "    for j in range(conf_matrix.shape[1]):\n",
        "        ax.text(x=j, y=i,s=conf_matrix[i, j], va='center', ha='center', size='xx-large')\n",
        "\n",
        "plt.xlabel('Predictions', fontsize=18)\n",
        "plt.ylabel('Actuals', fontsize=18)\n",
        "plt.title('Confusion Matrix', fontsize=18)\n",
        "plt.show()"
      ],
      "metadata": {
        "colab": {
          "base_uri": "https://localhost:8080/",
          "height": 699
        },
        "id": "PXfyghXBhH1N",
        "outputId": "f06aa8ef-626a-47e0-82ad-b91eec1fa833"
      },
      "execution_count": 27,
      "outputs": [
        {
          "output_type": "display_data",
          "data": {
            "text/plain": [
              "<Figure size 750x750 with 1 Axes>"
            ],
            "image/png": "[encoded data removed]"
          },
          "metadata": {}
        }
      ]
    },
    {
      "cell_type": "markdown",
      "source": [
        "### xgboost Classifier"
      ],
      "metadata": {
        "id": "O26W8Gp3sMNO"
      }
    },
    {
      "cell_type": "code",
      "source": [
        "from xgboost import XGBClassifier\n",
        "import xgboost as xgb\n",
        "from sklearn.preprocessing import StandardScaler\n",
        "from sklearn.pipeline import make_pipeline\n",
        "\n",
        "# XGBoost\n",
        "xgb = make_pipeline(StandardScaler(), XGBClassifier())\n",
        "\n",
        "xgb.fit(X_train, y_train)\n",
        "xgb.score(X_test, y_test)\n",
        "\n",
        "print('score XGB',xgb.score(X_test, y_test))\n",
        "\n"
      ],
      "metadata": {
        "colab": {
          "base_uri": "https://localhost:8080/"
        },
        "id": "v1tgVRverA7K",
        "outputId": "99fac35b-69a5-432c-c581-c92ebe930f36"
      },
      "execution_count": 28,
      "outputs": [
        {
          "output_type": "stream",
          "name": "stdout",
          "text": [
            "score XGB 1.0\n"
          ]
        }
      ]
    },
    {
      "cell_type": "code",
      "source": [
        "y_pred_xgb = xgb.predict(X_test)\n",
        "y_pred_xgb"
      ],
      "metadata": {
        "colab": {
          "base_uri": "https://localhost:8080/"
        },
        "id": "zmM7DuYdrA-D",
        "outputId": "9fda3c22-d063-4d5d-a103-241bcf2018da"
      },
      "execution_count": 29,
      "outputs": [
        {
          "output_type": "execute_result",
          "data": {
            "text/plain": [
              "array([1, 0, 0, 1, 0, 0, 0, 0, 0, 0, 0, 0, 1, 0, 1, 1, 1, 0, 1, 0, 1, 1,\n",
              "       1, 1, 1, 1, 1, 0, 1, 1, 1, 0, 0, 1, 0, 0, 0, 0, 1, 1, 0, 1, 1, 1,\n",
              "       1, 1, 1, 0, 0, 0, 0, 0, 1, 0, 0, 0, 0, 1, 0, 0, 0, 0, 1, 0, 0, 0,\n",
              "       0, 1, 1, 1, 1, 1, 1, 0, 0, 0, 0, 1, 0, 0, 0, 0, 1, 0, 1, 0, 1, 0,\n",
              "       1, 0, 0, 0, 1, 1, 1, 0, 0, 0, 1, 1, 1, 1, 1, 0, 0, 1, 0, 1, 0, 1,\n",
              "       1, 0, 1, 0, 1, 0, 1, 0, 0, 1, 0, 1, 1, 0, 0, 1, 1, 1, 1, 0, 0, 0,\n",
              "       1, 1, 1, 0, 0, 1, 0, 1, 1, 0, 1, 0, 0, 1, 1, 1, 1, 0, 1, 1, 1, 0,\n",
              "       0, 0, 1, 1, 0, 0, 0, 1, 1, 0, 1, 1, 1, 1, 1, 1, 1, 1, 1, 1, 1, 1,\n",
              "       0, 1, 1, 0, 0, 1, 0, 0, 1, 0, 1, 0, 1, 0, 0, 1, 0, 1, 0, 1, 1, 1,\n",
              "       0, 0, 1, 1, 1, 0, 1, 1, 1, 1, 1, 0, 1, 0, 1, 0, 0, 0, 1, 0, 1, 1,\n",
              "       0, 1, 1, 0, 1, 0, 0, 1, 1, 0, 0, 1, 1, 0, 1, 0, 1, 1, 0, 0, 0, 0,\n",
              "       0, 0, 1, 1, 0, 1, 0, 0, 0, 0, 1, 1, 1, 1, 1, 0, 0, 0, 1, 1, 1, 1,\n",
              "       1, 0, 0, 1, 1, 1, 0, 0, 1, 0, 1, 0, 0, 1, 1, 1, 0, 1, 1, 0, 1, 0,\n",
              "       0, 1, 1, 1, 0, 1, 0, 1, 0, 1, 0, 1, 0, 1, 1, 0, 1, 1, 1, 0, 1, 0])"
            ]
          },
          "metadata": {},
          "execution_count": 29
        }
      ]
    },
    {
      "cell_type": "code",
      "source": [
        "# Algorithme : xgboost\n",
        "from sklearn.metrics import accuracy_score, precision_score, recall_score, f1_score\n",
        "accuracy_score_xgb = accuracy_score(y_test, y_pred_xgb)\n",
        "precision_score_xgb = precision_score(y_test, y_pred_xgb, average='macro')\n",
        "recall_score_xgb = recall_score(y_test, y_pred_xgb, average='macro')\n",
        "f1_score_xgb = f1_score(y_test, y_pred_xgb, average='macro')\n",
        "\n",
        "print(\"accuracy xgb = \",accuracy_score_xgb)\n",
        "print(\"precision xgb = \",precision_score_xgb)\n",
        "print(\"recall xgb = \",recall_score_xgb)\n",
        "print(\"f1 xgb = \",f1_score_xgb)"
      ],
      "metadata": {
        "colab": {
          "base_uri": "https://localhost:8080/"
        },
        "id": "BdqScswYrBDt",
        "outputId": "af672145-0a6d-430d-b924-37ab5fa7c0e5"
      },
      "execution_count": 30,
      "outputs": [
        {
          "output_type": "stream",
          "name": "stdout",
          "text": [
            "accuracy xgb =  1.0\n",
            "precision xgb =  1.0\n",
            "recall xgb =  1.0\n",
            "f1 xgb =  1.0\n"
          ]
        }
      ]
    },
    {
      "cell_type": "code",
      "source": [
        "conf_matrix = confusion_matrix(y_true=y_test, y_pred=y_pred_xgb)\n",
        "#\n",
        "# Print the confusion matrix using Matplotlib\n",
        "#\n",
        "fig, ax = plt.subplots(figsize=(7.5, 7.5))\n",
        "ax.matshow(conf_matrix, cmap=plt.cm.Blues, alpha=0.3)\n",
        "for i in range(conf_matrix.shape[0]):\n",
        "    for j in range(conf_matrix.shape[1]):\n",
        "        ax.text(x=j, y=i,s=conf_matrix[i, j], va='center', ha='center', size='xx-large')\n",
        "\n",
        "plt.xlabel('Predictions', fontsize=18)\n",
        "plt.ylabel('Actuals', fontsize=18)\n",
        "plt.title('Confusion Matrix', fontsize=18)\n",
        "plt.show()"
      ],
      "metadata": {
        "colab": {
          "base_uri": "https://localhost:8080/",
          "height": 699
        },
        "id": "PkBLHL3arBGv",
        "outputId": "8094142a-9186-4edd-86ca-1097941202bb"
      },
      "execution_count": 31,
      "outputs": [
        {
          "output_type": "display_data",
          "data": {
            "text/plain": [
              "<Figure size 750x750 with 1 Axes>"
            ],
            "image/png": "[encoded data removed]"
          },
          "metadata": {}
        }
      ]
    },
    {
      "cell_type": "markdown",
      "source": [
        "## Partir 4 : Interprétation des Résultats"
      ],
      "metadata": {
        "id": "vVOJ0J50cc8d"
      }
    },
    {
      "cell_type": "code",
      "source": [
        "#Comparaison entre trois algorithmes en utilisant la bibliothèque matplotlib pour tracer \"bar chart\".\n",
        "import matplotlib.pyplot as plt\n",
        "import numpy as np\n",
        "\n",
        "fig, ax = plt.subplots()\n",
        "fig.set_size_inches(10,5)\n",
        "ax.set(ylim=[0.9, 1.0])\n",
        "\n",
        "score_algo1 = [accuracy_score_xgb, precision_score_xgb, recall_score_xgb, f1_score_xgb]\n",
        "score_algo2 = [accuracy_score_rf, precision_score_rf, recall_score_rf, f1_score_rf]\n",
        "score_algo3 = [accuracy_dnn , precision_dnn , recall_dnn , f1_dnn]\n",
        "\n",
        "barWidth = 0.1  # the width of the bars\n",
        "\n",
        "# Set position of bar on X axis\n",
        "r1 = np.arange(4)\n",
        "r2 = [x + barWidth for x in r1]\n",
        "r3 = [x + barWidth for x in r2]\n",
        "\n",
        "# Make the plot\n",
        "plt.bar(r1, score_algo1, color='red', width=barWidth, edgecolor='white', label='xgboost')\n",
        "plt.bar(r2, score_algo2, color='orange', width=barWidth, edgecolor='white', label='Random Forest')\n",
        "plt.bar(r3, score_algo3, color='green', width=barWidth, edgecolor='white', label='DNN')\n",
        "\n",
        "# Add xticks on the middle of the group bars\n",
        "plt.xlabel('Resultats', fontweight='bold')\n",
        "plt.xticks([r + barWidth for r in range(4)], ['accuracy', 'precision', 'recall', 'f1'])\n",
        "\n",
        "# Create legend & Show graphic\n",
        "plt.legend(loc='center left', bbox_to_anchor=(1, 0.5))\n",
        "plt.show()"
      ],
      "metadata": {
        "id": "0OYXkgHJf0Ez",
        "colab": {
          "base_uri": "https://localhost:8080/",
          "height": 470
        },
        "outputId": "4c0b9e98-2b22-4ad5-ff7e-ebdb38ea6172"
      },
      "execution_count": 32,
      "outputs": [
        {
          "output_type": "display_data",
          "data": {
            "text/plain": [
              "<Figure size 1000x500 with 1 Axes>"
            ],
            "image/png": "[encoded data removed]"
          },
          "metadata": {}
        }
      ]
    },
    {
      "cell_type": "code",
      "source": [],
      "metadata": {
        "id": "b7wdwHvff0IK"
      },
      "execution_count": 32,
      "outputs": []
    }
  ]
}